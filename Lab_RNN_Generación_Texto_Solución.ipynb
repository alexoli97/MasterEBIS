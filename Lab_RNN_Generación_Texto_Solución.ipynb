{
  "nbformat": 4,
  "nbformat_minor": 0,
  "metadata": {
    "colab": {
      "provenance": []
    },
    "kernelspec": {
      "name": "python3",
      "display_name": "Python 3"
    },
    "language_info": {
      "name": "python"
    }
  },
  "cells": [
    {
      "cell_type": "markdown",
      "source": [
        "## **Laboratorio: Redes Neuronales Recurrentes (RNN) para Generación de Texto**\n",
        "\n"
      ],
      "metadata": {
        "id": "2Vks2ihlnu4_"
      }
    },
    {
      "cell_type": "markdown",
      "source": [
        "**¿Qué son las Redes Neuronales Recurrentes (RNNs)?**\n",
        "\n",
        "Las Redes Neuronales Recurrentes (RNNs) son una clase de redes neuronales diseñadas para procesar secuencias de datos. A diferencia de las redes neuronales tradicionales, las RNNs tienen conexiones recurrentes que les permiten mantener una \"memoria\" de estados anteriores, lo que las hace especialmente útiles para tareas como procesamiento de lenguaje natural, reconocimiento de voz y generación de texto."
      ],
      "metadata": {
        "id": "84mx4RM34mCA"
      }
    },
    {
      "cell_type": "markdown",
      "source": [
        "**Objetivo del Ejercicio**\n",
        "Implementar y entrenar una Char-RNN en PyTorch para generar texto similar al de Shakespeare. A lo largo del ejercicio, se realizará lo siguiente:\n",
        "\n",
        "* Construcción de una Char-RNN: Definir una arquitectura RNN básica para la generación de texto.\n",
        "* Preparación de Datos: Procesar y convertir texto en tensores que pueden ser utilizados por la RNN.\n",
        "* Entrenamiento del Modelo: Implementar el ciclo de entrenamiento para ajustar los pesos de la RNN.\n",
        "* Generación de Texto: Utilizar el modelo entrenado para generar nuevas secuencias de texto.\n",
        "* Visualización y Evaluación: Monitorear la pérdida y la perplejidad durante el entrenamiento para evaluar el desempeño del modelo."
      ],
      "metadata": {
        "id": "A4au4bO44rLp"
      }
    },
    {
      "cell_type": "code",
      "source": [
        "# Instalación de la librería necesaria\n",
        "# Comenta la siguiente línea si ya tienes instalada la librería unidecode\n",
        "!pip install unidecode"
      ],
      "metadata": {
        "colab": {
          "base_uri": "https://localhost:8080/"
        },
        "id": "4CYPGt2hoCST",
        "outputId": "93b59972-0351-48f8-a322-5baeb6a11137"
      },
      "execution_count": null,
      "outputs": [
        {
          "output_type": "stream",
          "name": "stdout",
          "text": [
            "Collecting unidecode\n",
            "  Downloading Unidecode-1.3.8-py3-none-any.whl.metadata (13 kB)\n",
            "Downloading Unidecode-1.3.8-py3-none-any.whl (235 kB)\n",
            "\u001b[?25l   \u001b[90m━━━━━━━━━━━━━━━━━━━━━━━━━━━━━━━━━━━━━━━━\u001b[0m \u001b[32m0.0/235.5 kB\u001b[0m \u001b[31m?\u001b[0m eta \u001b[36m-:--:--\u001b[0m\r\u001b[2K   \u001b[91m━━━━━━━━━━━━━━━━━━━━━━━━━━━━━━━━━━━━━━\u001b[0m\u001b[90m╺\u001b[0m\u001b[90m━\u001b[0m \u001b[32m225.3/235.5 kB\u001b[0m \u001b[31m9.3 MB/s\u001b[0m eta \u001b[36m0:00:01\u001b[0m\r\u001b[2K   \u001b[90m━━━━━━━━━━━━━━━━━━━━━━━━━━━━━━━━━━━━━━━━\u001b[0m \u001b[32m235.5/235.5 kB\u001b[0m \u001b[31m4.7 MB/s\u001b[0m eta \u001b[36m0:00:00\u001b[0m\n",
            "\u001b[?25hInstalling collected packages: unidecode\n",
            "Successfully installed unidecode-1.3.8\n"
          ]
        }
      ]
    },
    {
      "cell_type": "markdown",
      "source": [
        "**Celda 1: Instalación e Importación de Librerías**"
      ],
      "metadata": {
        "id": "EGYLSjKmrkTv"
      }
    },
    {
      "cell_type": "code",
      "execution_count": null,
      "metadata": {
        "id": "WfktQZu8ntn9"
      },
      "outputs": [],
      "source": [
        "import torch\n",
        "import torch.nn as nn\n",
        "from torch.autograd import Variable\n",
        "import unidecode\n",
        "import string\n",
        "import random\n",
        "import time\n",
        "import math\n",
        "import os\n",
        "import argparse\n",
        "import matplotlib.pyplot as plt\n",
        "from tqdm import tqdm\n",
        "from unidecode import unidecode\n",
        "from google.colab import auth\n",
        "from google.colab import drive\n",
        "import io\n",
        "import requests\n",
        "\n"
      ]
    },
    {
      "cell_type": "markdown",
      "source": [
        "Explicación: En esta celda, instalamos e importamos todas las librerías necesarias para nuestro proyecto.\n",
        "\n",
        "*   unidecode se utiliza para convertir caracteres Unicode a ASCII\n",
        "*   torch es la librería principal para construir y entrenar nuestro modelo de red neuronal\n",
        "* matplotlib y tqdm son utilizadas para la visualización y el seguimiento del progreso del entrenamiento\n"
      ],
      "metadata": {
        "id": "X_kOmJMgoFtr"
      }
    },
    {
      "cell_type": "markdown",
      "source": [
        "**Celda 2: Definición de Caracteres y Lectura del Archivo**"
      ],
      "metadata": {
        "id": "1FB-OzaFoePa"
      }
    },
    {
      "cell_type": "code",
      "source": [
        "# Definir todos los caracteres posibles\n",
        "all_characters = string.printable\n",
        "n_characters = len(all_characters)\n",
        "\n",
        "# Función modificada para leer desde Google Drive\n",
        "def read_file(file_id):\n",
        "    # URL base para acceder a archivos de Google Drive\n",
        "    url = f'https://drive.google.com/uc?id={file_id}'\n",
        "\n",
        "    # Realizar la petición GET al archivo\n",
        "    response = requests.get(url)\n",
        "    if response.status_code == 200:\n",
        "        # Leer el contenido como texto\n",
        "        text = response.content.decode('utf-8')\n",
        "        # Convertir a ASCII\n",
        "        text = unidecode(text)\n",
        "        return text, len(text)\n",
        "    else:\n",
        "        raise Exception(f\"Error al leer el archivo: {response.status_code}\")\n",
        "\n",
        "# Convertir una cadena de caracteres a tensor de índices\n",
        "def char_tensor(string):\n",
        "    tensor = torch.zeros(len(string)).long()\n",
        "    for c in range(len(string)):\n",
        "        try:\n",
        "            tensor[c] = all_characters.index(string[c])\n",
        "        except:\n",
        "            continue  # Ignorar caracteres no encontrados\n",
        "    return tensor\n",
        "\n",
        "# Formatear el tiempo transcurrido\n",
        "def time_since(since):\n",
        "    s = time.time() - since\n",
        "    m = math.floor(s / 60)\n",
        "    s -= m * 60\n",
        "    return f'{m}m {s:.0f}s'\n",
        "\n",
        "# Extraer el ID del archivo de la URL completa\n",
        "def get_file_id_from_url(url):\n",
        "    # Buscar el ID en la URL de Google Drive\n",
        "    if '/file/d/' in url:\n",
        "        file_id = url.split('/file/d/')[1].split('/')[0]\n",
        "        return file_id\n",
        "    return None\n",
        "\n",
        "# Leer los datos\n",
        "#drive_url = \"https://drive.google.com/file/d/16eZEJJ__auJ-HKK993BiZpLg5vyu_t3A/view?usp=sharing\" #Obras shakespeare\n",
        "drive_url = \"https://drive.google.com/file/d/1slvHVcRqNfw33ieqBsPbZ-Qh-_EgmC_P/view?usp=sharing\" #Guiones Capítulos La Que se Avecina\n",
        "file_id = get_file_id_from_url(drive_url)\n",
        "file, file_len = read_file(file_id)\n",
        "print(f'Número de caracteres en el archivo: {file_len}')"
      ],
      "metadata": {
        "colab": {
          "base_uri": "https://localhost:8080/"
        },
        "id": "LV-cg3a1kYC4",
        "outputId": "255620b9-3aa1-4a95-e372-739ddeb23bfb"
      },
      "execution_count": null,
      "outputs": [
        {
          "output_type": "stream",
          "name": "stdout",
          "text": [
            "Número de caracteres en el archivo: 291714\n"
          ]
        }
      ]
    },
    {
      "cell_type": "markdown",
      "source": [
        "Explicación:\n",
        "\n",
        "\n",
        "\n",
        "*   Caracteres Definidos: Utilizamos string.printable para definir todos los caracteres que nuestro modelo reconocerá.\n",
        "*   Lectura del Archivo: La función read_file lee el contenido del archivo de texto y lo convierte a ASCII para evitar problemas con caracteres especiales.\n",
        "* Conversión a Tensor: char_tensor convierte una cadena de texto en un tensor de índices, donde cada carácter se reemplaza por su posición en all_characters.\n",
        "* Formateo de Tiempo: time_since es una función auxiliar para formatear el tiempo transcurrido durante el entrenamiento.\n",
        "\n",
        "\n",
        "\n",
        "\n",
        "\n",
        "\n"
      ],
      "metadata": {
        "id": "X_cIU03xoSIC"
      }
    },
    {
      "cell_type": "markdown",
      "source": [
        "**Celda 3: Definición del Modelo CharRNN (Simplificado)**"
      ],
      "metadata": {
        "id": "_yL3N9SUofSR"
      }
    },
    {
      "cell_type": "code",
      "source": [
        "# Definición del Modelo CharRNN\n",
        "class CharRNN(nn.Module):\n",
        "    def __init__(self, input_size, hidden_size, output_size, model=\"gru\", n_layers=1):\n",
        "        super(CharRNN, self).__init__()\n",
        "        self.model = model.lower()\n",
        "        self.input_size = input_size\n",
        "        self.hidden_size = hidden_size\n",
        "        self.output_size = output_size\n",
        "        self.n_layers = n_layers\n",
        "\n",
        "        # Capa de embedding para convertir índices en vectores densos\n",
        "        self.encoder = nn.Embedding(input_size, hidden_size)\n",
        "\n",
        "        # Capa GRU o LSTM\n",
        "        if self.model == \"gru\":\n",
        "            self.rnn = nn.GRU(hidden_size, hidden_size, n_layers)\n",
        "        elif self.model == \"lstm\":\n",
        "            self.rnn = nn.LSTM(hidden_size, hidden_size, n_layers)\n",
        "\n",
        "        # Capa lineal para predecir el siguiente carácter\n",
        "        self.decoder = nn.Linear(hidden_size, output_size)\n",
        "\n",
        "    def forward(self, input, hidden):\n",
        "        batch_size = input.size(0)\n",
        "        # Pasar el input por la capa de embedding\n",
        "        encoded = self.encoder(input)\n",
        "\n",
        "        # Pasar el embedding a través de la RNN\n",
        "        output, hidden = self.rnn(encoded.view(1, batch_size, -1), hidden)\n",
        "\n",
        "        # Pasar la salida de la RNN a través de la capa lineal\n",
        "        output = self.decoder(output.view(batch_size, -1))\n",
        "        return output, hidden\n",
        "\n",
        "    def init_hidden(self, batch_size):\n",
        "        if self.model == \"lstm\":\n",
        "            return (Variable(torch.zeros(self.n_layers, batch_size, self.hidden_size)),\n",
        "                    Variable(torch.zeros(self.n_layers, batch_size, self.hidden_size)))\n",
        "        return Variable(torch.zeros(self.n_layers, batch_size, self.hidden_size))\n"
      ],
      "metadata": {
        "id": "4-w8zGqDoa7Z"
      },
      "execution_count": null,
      "outputs": []
    },
    {
      "cell_type": "markdown",
      "source": [
        "Explicación:\n",
        "\n",
        "* Capa de Embedding (self.encoder): Convierte los índices de caracteres en vectores densos que la RNN puede procesar.\n",
        "* Capa RNN (self.rnn): Puede ser una GRU o una LSTM según el parámetro model. Estas capas manejan dependencias a lo largo de la secuencia.\n",
        "* Capa Lineal (self.decoder): Mapea la salida de la RNN al espacio de salida correspondiente al número de caracteres.\n",
        "\n",
        "Métodos:\n",
        "\n",
        "* forward: Define cómo pasan los datos a través del modelo durante el entrenamiento y la generación.\n",
        "* init_hidden: Inicializa el estado oculto de la RNN. Para LSTM, devuelve una tupla con los estados oculto y de celda; para GRU, solo el estado oculto."
      ],
      "metadata": {
        "id": "kBA_Smg-okzS"
      }
    },
    {
      "cell_type": "markdown",
      "source": [
        "**Celda 4: Preparación del Conjunto de Entrenamiento**"
      ],
      "metadata": {
        "id": "-DVoy8ROpDDw"
      }
    },
    {
      "cell_type": "code",
      "source": [
        "# Función para crear un conjunto de entrenamiento aleatorio\n",
        "def random_training_set(chunk_len, batch_size, file, file_len, cuda=False):\n",
        "    inp = torch.LongTensor(batch_size, chunk_len)\n",
        "    target = torch.LongTensor(batch_size, chunk_len)\n",
        "    for bi in range(batch_size):\n",
        "        start_index = random.randint(0, file_len - chunk_len - 1)\n",
        "        end_index = start_index + chunk_len + 1\n",
        "        chunk = file[start_index:end_index]\n",
        "        inp[bi] = char_tensor(chunk[:-1])\n",
        "        target[bi] = char_tensor(chunk[1:])\n",
        "    inp = Variable(inp)\n",
        "    target = Variable(target)\n",
        "    if cuda:\n",
        "        inp = inp.cuda()\n",
        "        target = target.cuda()\n",
        "    return inp, target\n"
      ],
      "metadata": {
        "id": "z4A9zksCpEGv"
      },
      "execution_count": null,
      "outputs": []
    },
    {
      "cell_type": "markdown",
      "source": [
        "Explicación: Esta función genera lotes de entrenamiento aleatorios extrayendo secuencias de caracteres del texto. Cada secuencia de entrada (inp) está desplazada por un carácter con respecto a la secuencia objetivo (target), lo que permite al modelo aprender a predecir el siguiente carácter."
      ],
      "metadata": {
        "id": "jPhtBRz6pFpi"
      }
    },
    {
      "cell_type": "markdown",
      "source": [
        "**Celda 5: Definición de la Función de Entrenamiento**"
      ],
      "metadata": {
        "id": "9IW-k9E5pHHn"
      }
    },
    {
      "cell_type": "code",
      "source": [
        "# Función de entrenamiento\n",
        "def train(inp, target, decoder, criterion, decoder_optimizer, chunk_len, batch_size, cuda=False):\n",
        "    hidden = decoder.init_hidden(batch_size)\n",
        "    if cuda:\n",
        "        hidden = hidden.cuda()\n",
        "    decoder.zero_grad()\n",
        "    loss = 0\n",
        "\n",
        "    for c in range(chunk_len):\n",
        "        output, hidden = decoder(inp[:, c], hidden)\n",
        "        loss += criterion(output.view(batch_size, -1), target[:, c])\n",
        "\n",
        "    loss.backward()\n",
        "    decoder_optimizer.step()\n",
        "\n",
        "    return loss.item() / chunk_len\n"
      ],
      "metadata": {
        "id": "UnfF809epHvO"
      },
      "execution_count": null,
      "outputs": []
    },
    {
      "cell_type": "markdown",
      "source": [
        "Explicación: Esta función realiza una pasada de entrenamiento sobre un lote de datos:\n",
        "\n",
        "* Inicializa el estado oculto: hidden = decoder.init_hidden(batch_size)\n",
        "* Limpia los gradientes acumulados: decoder.zero_grad()\n",
        "* Calcula la pérdida: Suma las pérdidas de cada carácter en la secuencia.\n",
        "* Retropropagación y Optimización: Calcula los gradientes (loss.backward()) y actualiza los pesos del modelo (decoder_optimizer.step()).\n",
        "* Finalmente, retorna la pérdida promedio por carácter para el lote actual."
      ],
      "metadata": {
        "id": "PVefj-hjpJI3"
      }
    },
    {
      "cell_type": "markdown",
      "source": [
        "Celda 6: Configuración del Modelo y Parámetros de Entrenamiento"
      ],
      "metadata": {
        "id": "nSBr7NYhp2tt"
      }
    },
    {
      "cell_type": "code",
      "source": [
        "# Parámetros del modelo y entrenamiento\n",
        "#filename = \"/content/shakespeare.txt\"  # Ya lo hemos definido en la celda 2\n",
        "n_epochs = 2000\n",
        "model_type = \"gru\"  # Puede ser \"gru\" o \"lstm\"\n",
        "print_every = 100\n",
        "hidden_size = 100\n",
        "n_layers = 2\n",
        "learning_rate = 0.01\n",
        "chunk_len = 200\n",
        "batch_size = 100\n",
        "cuda_flag = False  # Cambiar a True si se desea usar GPU\n",
        "\n",
        "# Leer los datos\n",
        "file, file_len = read_file(filename)\n",
        "\n",
        "# Inicializar el modelo, optimizador y función de pérdida\n",
        "decoder = CharRNN(n_characters, hidden_size, n_characters, model=model_type, n_layers=n_layers)\n",
        "decoder_optimizer = torch.optim.Adam(decoder.parameters(), lr=learning_rate)\n",
        "criterion = nn.CrossEntropyLoss()\n",
        "\n",
        "if cuda_flag:\n",
        "    decoder.cuda()\n"
      ],
      "metadata": {
        "id": "bWHzIxsHpPFo"
      },
      "execution_count": null,
      "outputs": []
    },
    {
      "cell_type": "markdown",
      "source": [
        "Explicación: En esta celda, definimos los parámetros para el modelo y el entrenamiento, inicializamos el modelo CharRNN, el optimizador Adam y la función de pérdida CrossEntropyLoss. También configuramos la opción para usar GPU si está disponible (cuda_flag = True)."
      ],
      "metadata": {
        "id": "HBmF2xrmp7ZN"
      }
    },
    {
      "cell_type": "markdown",
      "source": [
        "**Celda 7: Bucle de Entrenamiento**"
      ],
      "metadata": {
        "id": "Wb7r0dzAp9ZF"
      }
    },
    {
      "cell_type": "code",
      "source": [
        "# Función para guardar el modelo\n",
        "def save(decoder, filename):\n",
        "    save_filename = os.path.splitext(os.path.basename(filename))[0] + '.pt'\n",
        "    torch.save(decoder, save_filename)\n",
        "    print(f'Saved as {save_filename}')\n",
        "\n",
        "# Función para generar texto\n",
        "def generate(decoder, prime_str='A', predict_len=100, temperature=0.8, cuda=False):\n",
        "    hidden = decoder.init_hidden(1)\n",
        "    prime_input = Variable(char_tensor(prime_str).unsqueeze(0))\n",
        "\n",
        "    if cuda:\n",
        "        hidden = hidden.cuda()\n",
        "        prime_input = prime_input.cuda()\n",
        "    predicted = prime_str\n",
        "\n",
        "    # \"Calentar\" la RNN con la cadena inicial\n",
        "    for p in range(len(prime_str) - 1):\n",
        "        _, hidden = decoder(prime_input[:, p], hidden)\n",
        "\n",
        "    inp = prime_input[:, -1]\n",
        "\n",
        "    for p in range(predict_len):\n",
        "        output, hidden = decoder(inp, hidden)\n",
        "\n",
        "        # Transformar la salida en una distribución de probabilidad\n",
        "        output_dist = output.data.view(-1).div(temperature).exp()\n",
        "        top_i = torch.multinomial(output_dist, 1)[0]\n",
        "\n",
        "        # Convertir el índice a carácter y añadirlo a la predicción\n",
        "        predicted_char = all_characters[top_i]\n",
        "        predicted += predicted_char\n",
        "        inp = Variable(char_tensor(predicted_char).unsqueeze(0))\n",
        "        if cuda:\n",
        "            inp = inp.cuda()\n",
        "\n",
        "    return predicted\n",
        "\n",
        "# Iniciar el entrenamiento\n",
        "start = time.time()\n",
        "all_losses = []\n",
        "perplexities = []\n",
        "\n",
        "try:\n",
        "    print(f\"Training for {n_epochs} epochs...\")\n",
        "    for epoch in tqdm(range(1, n_epochs + 1)):\n",
        "        inp, target = random_training_set(chunk_len, batch_size, file, file_len, cuda=cuda_flag)\n",
        "        loss = train(inp, target, decoder, criterion, decoder_optimizer, chunk_len, batch_size, cuda=cuda_flag)\n",
        "        all_losses.append(loss)\n",
        "        perplexities.append(math.exp(loss))\n",
        "\n",
        "        if epoch % print_every == 0:\n",
        "            print(f'[{time_since(start)}] ({epoch} / {n_epochs}) Loss: {loss:.4f}')\n",
        "            # Generar texto de ejemplo\n",
        "            print(generate(decoder, 'Wh', 100, temperature=0.8, cuda=cuda_flag))\n",
        "            print('-----------------------------------')\n",
        "\n",
        "    print(\"Saving...\")\n",
        "    save(decoder, filename)\n",
        "\n",
        "except KeyboardInterrupt:\n",
        "    print(\"Saving before quit...\")\n",
        "    save(decoder, filename)\n"
      ],
      "metadata": {
        "colab": {
          "base_uri": "https://localhost:8080/"
        },
        "id": "jogwLEn3p-Se",
        "outputId": "b1897542-3286-40bf-f46b-bc9278f8b615"
      },
      "execution_count": null,
      "outputs": [
        {
          "metadata": {
            "tags": null
          },
          "name": "stdout",
          "output_type": "stream",
          "text": [
            "Training for 2000 epochs...\n"
          ]
        },
        {
          "metadata": {
            "tags": null
          },
          "name": "stderr",
          "output_type": "stream",
          "text": [
            "  5%|▌         | 100/2000 [01:46<29:04,  1.09it/s]"
          ]
        },
        {
          "metadata": {
            "tags": null
          },
          "name": "stdout",
          "output_type": "stream",
          "text": [
            "[1m 46s] (100 / 2000) Loss: 1.4779\n",
            "Wh de miris de michar que emprefebarle con los ambien.\n",
            "RECIO: (Sonriendo) !Dampuen quitan) !Gracias a \n",
            "-----------------------------------\n"
          ]
        },
        {
          "metadata": {
            "tags": null
          },
          "name": "stderr",
          "output_type": "stream",
          "text": [
            " 10%|█         | 200/2000 [03:22<28:36,  1.05it/s]"
          ]
        },
        {
          "metadata": {
            "tags": null
          },
          "name": "stdout",
          "output_type": "stream",
          "text": [
            "[3m 22s] (200 / 2000) Loss: 1.1993\n",
            "Who, esta la penseguira mas metales.\n",
            "LEO: !No es una vez! Esi es. Asi es un hermanio para poquir y el \n",
            "-----------------------------------\n"
          ]
        },
        {
          "metadata": {
            "tags": null
          },
          "name": "stderr",
          "output_type": "stream",
          "text": [
            " 15%|█▌        | 300/2000 [04:58<30:43,  1.08s/it]"
          ]
        },
        {
          "metadata": {
            "tags": null
          },
          "name": "stdout",
          "output_type": "stream",
          "text": [
            "[4m 59s] (300 / 2000) Loss: 1.0161\n",
            "Whames.\n",
            "\n",
            "ENRIQUE: (Asoleta) Bueno, que todo esta on tiempo.\n",
            "\n",
            "VICENTE: (Bromeando) Y yo puedo sergiente\n",
            "-----------------------------------\n"
          ]
        },
        {
          "metadata": {
            "tags": null
          },
          "name": "stderr",
          "output_type": "stream",
          "text": [
            " 20%|██        | 400/2000 [06:33<24:05,  1.11it/s]"
          ]
        },
        {
          "metadata": {
            "tags": null
          },
          "name": "stdout",
          "output_type": "stream",
          "text": [
            "[6m 33s] (400 / 2000) Loss: 0.9894\n",
            "Whamos para la cena y la comunidad y la olgunidad.\n",
            "\n",
            "BERTA: (Agradecida) Si, siempre te esta fuer ascut\n",
            "-----------------------------------\n"
          ]
        },
        {
          "metadata": {
            "tags": null
          },
          "name": "stderr",
          "output_type": "stream",
          "text": [
            " 25%|██▌       | 500/2000 [08:11<23:25,  1.07it/s]"
          ]
        },
        {
          "metadata": {
            "tags": null
          },
          "name": "stdout",
          "output_type": "stream",
          "text": [
            "[8m 11s] (500 / 2000) Loss: 0.9535\n",
            "Whar todo que nos en suelto. ?La calta que todos luces que nos fundienes algunos estan en\n",
            "onriente de \n",
            "-----------------------------------\n"
          ]
        },
        {
          "metadata": {
            "tags": null
          },
          "name": "stderr",
          "output_type": "stream",
          "text": [
            " 30%|███       | 600/2000 [09:47<25:47,  1.11s/it]"
          ]
        },
        {
          "metadata": {
            "tags": null
          },
          "name": "stdout",
          "output_type": "stream",
          "text": [
            "[9m 47s] (600 / 2000) Loss: 0.9214\n",
            "Whada para los pescadero para asegurarnos mas problemas.\n",
            "\n",
            "RAQUEL: (Sonriendo) Si, lo ha estare algunas\n",
            "-----------------------------------\n"
          ]
        },
        {
          "metadata": {
            "tags": null
          },
          "name": "stderr",
          "output_type": "stream",
          "text": [
            " 35%|███▌      | 700/2000 [11:21<19:59,  1.08it/s]"
          ]
        },
        {
          "metadata": {
            "tags": null
          },
          "name": "stdout",
          "output_type": "stream",
          "text": [
            "[11m 22s] (700 / 2000) Loss: 0.7847\n",
            "Whamados un coches y fortalecer nosotros por todas participaremos.\n",
            "\n",
            "BERTA: (Sonriendo) Trego, estoy co\n",
            "-----------------------------------\n"
          ]
        },
        {
          "metadata": {
            "tags": null
          },
          "name": "stderr",
          "output_type": "stream",
          "text": [
            " 40%|████      | 800/2000 [12:56<20:09,  1.01s/it]"
          ]
        },
        {
          "metadata": {
            "tags": null
          },
          "name": "stdout",
          "output_type": "stream",
          "text": [
            "[12m 57s] (800 / 2000) Loss: 0.8582\n",
            "Whametamos muchos mas gracias de todos, Amador!\n",
            "\n",
            "AMADOR: (Sonriendo) Y mientras una excelente venea in\n",
            "-----------------------------------\n"
          ]
        },
        {
          "metadata": {
            "tags": null
          },
          "name": "stderr",
          "output_type": "stream",
          "text": [
            " 45%|████▌     | 900/2000 [14:33<18:17,  1.00it/s]"
          ]
        },
        {
          "metadata": {
            "tags": null
          },
          "name": "stdout",
          "output_type": "stream",
          "text": [
            "[14m 33s] (900 / 2000) Loss: 0.8040\n",
            "Whamateia que un forcinos)) !Proco! !Eso es mue erfresico, te has herros esta organizacion esperanzand\n",
            "-----------------------------------\n"
          ]
        },
        {
          "metadata": {
            "tags": null
          },
          "name": "stderr",
          "output_type": "stream",
          "text": [
            " 50%|█████     | 1000/2000 [16:09<15:24,  1.08it/s]"
          ]
        },
        {
          "metadata": {
            "tags": null
          },
          "name": "stdout",
          "output_type": "stream",
          "text": [
            "[16m 9s] (1000 / 2000) Loss: 0.7627\n",
            "Whamor mas contento, Betando un accion quimitado a todos por la organizar una reunion.\n",
            "\n",
            "MAITE: (Sonrie\n",
            "-----------------------------------\n"
          ]
        },
        {
          "metadata": {
            "tags": null
          },
          "name": "stderr",
          "output_type": "stream",
          "text": [
            " 55%|█████▌    | 1100/2000 [17:47<20:42,  1.38s/it]"
          ]
        },
        {
          "metadata": {
            "tags": null
          },
          "name": "stdout",
          "output_type": "stream",
          "text": [
            "[17m 48s] (1100 / 2000) Loss: 0.7586\n",
            "Whas video unida, bundo) !Perfecto! Y yo vamos a organizar unas gambas con la comunidad. A que estoy i\n",
            "-----------------------------------\n"
          ]
        },
        {
          "metadata": {
            "tags": null
          },
          "name": "stderr",
          "output_type": "stream",
          "text": [
            " 60%|██████    | 1200/2000 [19:25<14:49,  1.11s/it]"
          ]
        },
        {
          "metadata": {
            "tags": null
          },
          "name": "stdout",
          "output_type": "stream",
          "text": [
            "[19m 25s] (1200 / 2000) Loss: 0.7631\n",
            "Who, Antonio, para que todos espedide de cada interesa. ?Serio ya sabia que todo este listo.\n",
            "\n",
            "COQUE: (\n",
            "-----------------------------------\n"
          ]
        },
        {
          "metadata": {
            "tags": null
          },
          "name": "stderr",
          "output_type": "stream",
          "text": [
            " 65%|██████▌   | 1300/2000 [21:00<10:37,  1.10it/s]"
          ]
        },
        {
          "metadata": {
            "tags": null
          },
          "name": "stdout",
          "output_type": "stream",
          "text": [
            "[21m 1s] (1300 / 2000) Loss: 0.7769\n",
            "Whore mis callado con la la estresando, sucar lo va a abrir la peliterios.\n",
            "ANTONIO RECCIO: !Esto es !o\n",
            "-----------------------------------\n"
          ]
        },
        {
          "metadata": {
            "tags": null
          },
          "name": "stderr",
          "output_type": "stream",
          "text": [
            " 70%|███████   | 1400/2000 [22:36<09:40,  1.03it/s]"
          ]
        },
        {
          "metadata": {
            "tags": null
          },
          "name": "stdout",
          "output_type": "stream",
          "text": [
            "[22m 36s] (1400 / 2000) Loss: 0.7232\n",
            "Whora quieado para la comunidad.\n",
            "\n",
            "JAVI: (Con entusiasmo) !Vamos a bainar! No sera una vida?\n",
            "\n",
            "JAVI: (Ri\n",
            "-----------------------------------\n"
          ]
        },
        {
          "metadata": {
            "tags": null
          },
          "name": "stderr",
          "output_type": "stream",
          "text": [
            " 75%|███████▌  | 1500/2000 [24:11<08:01,  1.04it/s]"
          ]
        },
        {
          "metadata": {
            "tags": null
          },
          "name": "stdout",
          "output_type": "stream",
          "text": [
            "[24m 12s] (1500 / 2000) Loss: 0.7274\n",
            "Who el participarle los encontrarle un torneo de pinchos cuenta.\n",
            "\n",
            "ANTONIO: (Sonriendo) Bueno, que es m\n",
            "-----------------------------------\n"
          ]
        },
        {
          "metadata": {
            "tags": null
          },
          "name": "stderr",
          "output_type": "stream",
          "text": [
            " 80%|████████  | 1600/2000 [25:48<06:27,  1.03it/s]"
          ]
        },
        {
          "metadata": {
            "tags": null
          },
          "name": "stdout",
          "output_type": "stream",
          "text": [
            "[25m 48s] (1600 / 2000) Loss: 0.7372\n",
            "Whos folleccion y poco de tu pusos podemos las ciguenas, Vicente. Siempre que siempre es pagaba.\n",
            "\n",
            "COQU\n",
            "-----------------------------------\n"
          ]
        },
        {
          "metadata": {
            "tags": null
          },
          "name": "stderr",
          "output_type": "stream",
          "text": [
            " 85%|████████▌ | 1700/2000 [27:24<04:58,  1.00it/s]"
          ]
        },
        {
          "metadata": {
            "tags": null
          },
          "name": "stdout",
          "output_type": "stream",
          "text": [
            "[27m 24s] (1700 / 2000) Loss: 0.7804\n",
            "Whogoramos.\n",
            "\n",
            "ENRIQUE: (Riendo) Si, esto es Bremor. A veces seriezo este encontraron razor.\n",
            "\n",
            "NINES: (En\n",
            "-----------------------------------\n"
          ]
        },
        {
          "metadata": {
            "tags": null
          },
          "name": "stderr",
          "output_type": "stream",
          "text": [
            " 90%|█████████ | 1800/2000 [28:58<03:02,  1.10it/s]"
          ]
        },
        {
          "metadata": {
            "tags": null
          },
          "name": "stdout",
          "output_type": "stream",
          "text": [
            "[28m 59s] (1800 / 2000) Loss: 0.7153\n",
            "Whorazora, mentador a nuestra comunidad para el torneo de pinchos.\n",
            "\n",
            "AMADOR: (Sonriendo) !Adelante! Est\n",
            "-----------------------------------\n"
          ]
        },
        {
          "metadata": {
            "tags": null
          },
          "name": "stderr",
          "output_type": "stream",
          "text": [
            " 95%|█████████▌| 1900/2000 [30:34<01:35,  1.05it/s]"
          ]
        },
        {
          "metadata": {
            "tags": null
          },
          "name": "stdout",
          "output_type": "stream",
          "text": [
            "[30m 35s] (1900 / 2000) Loss: 0.7125\n",
            "Whores no consmigal posible.\n",
            "\n",
            "ANTONIO: (Sonriendo) Bueno, pues de una buena obor.\n",
            "\n",
            "JUDITH: (Sonriendo)\n",
            "-----------------------------------\n"
          ]
        },
        {
          "output_type": "stream",
          "name": "stderr",
          "text": [
            "100%|██████████| 2000/2000 [32:10<00:00,  1.04it/s]"
          ]
        },
        {
          "output_type": "stream",
          "name": "stdout",
          "text": [
            "[32m 10s] (2000 / 2000) Loss: 0.7201\n",
            "Whores. Ya entiendose a la ormanidad.\n",
            "\n",
            "COQUE: (Con una sonrisa) Claro, ?que tengo mas.\n",
            "\n",
            "ANTONIO: (Revi\n",
            "-----------------------------------\n",
            "Saving...\n",
            "Saved as lqsa.pt\n"
          ]
        },
        {
          "output_type": "stream",
          "name": "stderr",
          "text": [
            "\n"
          ]
        }
      ]
    },
    {
      "cell_type": "markdown",
      "source": [
        "Explicación: Este es el bucle principal de entrenamiento donde el modelo se entrena durante múltiples épocas:\n",
        "\n",
        "* Generación de Lotes de Entrenamiento: inp, target = random_training_set(...)\n",
        "Entrenamiento: loss = train(...)\n",
        "* Registro de la Pérdida y Perplejidad: Almacenamos la pérdida y calculamos la perplejidad (math.exp(loss)).\n",
        "* Monitoreo del Progreso: Cada print_every épocas, imprimimos la pérdida actual y generamos una muestra de texto para observar el progreso del modelo.\n",
        "* Guardado del Modelo: Al finalizar el entrenamiento o si se interrumpe manualmente, guardamos el modelo entrenado usando la función save.\n",
        "\n",
        "Funciones Incluidas:\n",
        "\n",
        "* save: Guarda el modelo entrenado en un archivo .pt para poder usarlo en un futuro.\n",
        "* generate: Genera texto basado en una cadena inicial (prime_str). Controla la aleatoriedad de la generación mediante la temperatura."
      ],
      "metadata": {
        "id": "gnc64mQNqVUL"
      }
    },
    {
      "cell_type": "markdown",
      "source": [
        "## **¿Qué es la Perplejidad?**\n",
        "\n",
        "La **perplejidad** es una métrica utilizada para evaluar la calidad de los modelos de lenguaje, como las Redes Neuronales Recurrentes (RNNs). En términos simples, la perplejidad mide cuán bien el modelo predice una muestra de texto.\n",
        "\n",
        "### **¿Cómo se Calcula?**\n",
        "\n",
        "Matemáticamente, la perplejidad se define como la exponencial de la entropía cruzada del modelo. Específicamente:\n",
        "\n",
        "\\[\n",
        "\\text{Perplejidad} = e^{\\text{Entropía cruzada}}\n",
        "\\]\n",
        "\n",
        "En nuestro modelo, calculamos la perplejidad a partir de la pérdida (loss) obtenida durante el entrenamiento.\n",
        "\n",
        "### **¿Cómo Interpretar la Perplejidad?**\n",
        "\n",
        "- **Valores Bajos:** Indican que el modelo está haciendo buenas predicciones sobre los datos de entrenamiento, es decir, el modelo es menos \"perplejo\" ante los datos que está viendo.\n",
        "  \n",
        "- **Valores Altos:** Sugieren que el modelo tiene dificultades para predecir los caracteres siguientes en el texto, lo que puede significar que el modelo no ha aprendido bien los patrones del lenguaje en los datos de entrenamiento.\n",
        "\n",
        "### **Uso de la Perplejidad en el Entrenamiento**\n",
        "\n",
        "Durante el entrenamiento, monitorizamos la perplejidad para evaluar el progreso del modelo. Una disminución constante en la perplejidad generalmente indica que el modelo está aprendiendo a predecir mejor los caracteres siguientes en las secuencias de texto.\n"
      ],
      "metadata": {
        "id": "ph2S4KoMq77a"
      }
    },
    {
      "cell_type": "markdown",
      "source": [
        "**Celda 8: Visualización de la Perplejidad**"
      ],
      "metadata": {
        "id": "RqrEupbYqqEi"
      }
    },
    {
      "cell_type": "code",
      "source": [
        "# Graficar la perplejidad\n",
        "plt.figure(figsize=(10,5))\n",
        "plt.plot(perplexities)\n",
        "plt.ylabel('Perplexity')\n",
        "plt.xlabel('Epoch')\n",
        "plt.title('Perplejidad durante el Entrenamiento')\n",
        "plt.show()\n",
        "\n",
        "# Graficar la perplejidad omitiendo las primeras 10 épocas para mayor claridad\n",
        "plt.figure(figsize=(10,5))\n",
        "plt.plot(perplexities[10:])\n",
        "plt.ylabel('Perplexity')\n",
        "plt.xlabel('Epoch')\n",
        "plt.title('Perplejidad (omitiendo primeras 10 épocas)')\n",
        "plt.show()\n"
      ],
      "metadata": {
        "colab": {
          "base_uri": "https://localhost:8080/",
          "height": 958
        },
        "id": "q4Axg2V9qds8",
        "outputId": "d22f5820-0196-4e78-eb72-b30cc7c28b6c"
      },
      "execution_count": null,
      "outputs": [
        {
          "output_type": "display_data",
          "data": {
            "text/plain": [
              "<Figure size 1000x500 with 1 Axes>"
            ],
            "image/png": "[encoded data removed]"
          },
          "metadata": {}
        },
        {
          "output_type": "display_data",
          "data": {
            "text/plain": [
              "<Figure size 1000x500 with 1 Axes>"
            ],
            "image/png": "[encoded data removed]"
          },
          "metadata": {}
        }
      ]
    },
    {
      "cell_type": "markdown",
      "source": [
        "Explicación: En esta celda, graficamos la perplejidad del modelo a lo largo de las épocas de entrenamiento. La perplejidad es una medida que indica qué tan bien el modelo está prediciendo el texto; valores más bajos son mejores. Además, graficamos la perplejidad omitiendo las primeras 10 épocas para una visualización más clara, ya que al inicio la perplejidad puede ser muy alta."
      ],
      "metadata": {
        "id": "b_RVZJPAqe8S"
      }
    },
    {
      "cell_type": "markdown",
      "source": [
        "**Celda 9: Generación de Texto con Cadenas Aleatorias y Específicas**"
      ],
      "metadata": {
        "id": "hHM5rG-oqhCy"
      }
    },
    {
      "cell_type": "code",
      "source": [
        "# Funciones para generar texto con cadenas aleatorias\n",
        "def randomString(length):\n",
        "    return ''.join(random.choice(string.printable) for _ in range(length))\n",
        "\n",
        "# Cargar el modelo guardado\n",
        "decoder = torch.load(\"lqsa.pt\")\n",
        "\n",
        "# Generar texto con cadenas aleatorias\n",
        "for i in range(5):\n",
        "    prime_string = randomString(5)\n",
        "    print(f\"======Prime string: {prime_string} ======\")\n",
        "    print(generate(decoder, prime_str=prime_string, predict_len=100, temperature=0.8, cuda=cuda_flag))\n",
        "    print('-----------------------------------')\n",
        "\n",
        "# Generar texto con cadenas específicas\n",
        "priming_sequences = [\n",
        "    \"RECIO:\",\n",
        "    \"Cuqui \",\n",
        "    \"el pescador\",\n",
        "    \"X087hNYB BHN BYFVuhsdbs\"\n",
        "]\n",
        "\n",
        "for prime in priming_sequences:\n",
        "    print(f\"Prime string: {prime}\")\n",
        "    print(generate(decoder, prime_str=prime, predict_len=100, temperature=0.8, cuda=cuda_flag))\n",
        "    print('-----------------------------------')\n"
      ],
      "metadata": {
        "colab": {
          "base_uri": "https://localhost:8080/"
        },
        "id": "s728UC2uqhy6",
        "outputId": "488f57c9-4a17-4980-8a01-b4544101cafc"
      },
      "execution_count": null,
      "outputs": [
        {
          "output_type": "stream",
          "name": "stderr",
          "text": [
            "<ipython-input-12-8385afec1bf0>:6: FutureWarning: You are using `torch.load` with `weights_only=False` (the current default value), which uses the default pickle module implicitly. It is possible to construct malicious pickle data which will execute arbitrary code during unpickling (See https://github.com/pytorch/pytorch/blob/main/SECURITY.md#untrusted-models for more details). In a future release, the default value for `weights_only` will be flipped to `True`. This limits the functions that could be executed during unpickling. Arbitrary objects will no longer be allowed to be loaded via this mode unless they are explicitly allowlisted by the user via `torch.serialization.add_safe_globals`. We recommend you start setting `weights_only=True` for any use case where you don't have full control of the loaded file. Please open an issue on GitHub for any issues related to this experimental feature.\n",
            "  decoder = torch.load(\"lqsa.pt\")\n"
          ]
        },
        {
          "output_type": "stream",
          "name": "stdout",
          "text": [
            "======Prime string: uH/\n",
            "\t ======\n",
            "uH/\n",
            "\tENRA: Ya lo hago de aplo relezas su jardin por mi consmos.\n",
            "\n",
            "ANTONIO: O si nuevo sin a tenero al cine\n",
            "-----------------------------------\n",
            "======Prime string: +1LZ= ======\n",
            "+1LZ= estamos asegurarnos de que todo sabente estan los vecinos.\n",
            "AMADOR: Eso si toque viajo a ser que lle\n",
            "-----------------------------------\n",
            "======Prime string: j\t)\f# ======\n",
            "j\t)\f# TIIO - TARDE NINTES !La!\n",
            "\n",
            "EqETERA: De la que la de la subastal en casado y vecino se lo v oy a pael\n",
            "-----------------------------------\n",
            "======Prime string: K[u-! ======\n",
            "K[u-! Vamos, Amador!\n",
            "\n",
            "JUDITH: (Bromeando) Claro, Amador, no, y o sigue en el proyen de nudieron sin en un\n",
            "-----------------------------------\n",
            "======Prime string: q&KmZ ======\n",
            "q&KmZuetate que el vica la cena se acuerda en inflamable.\n",
            "\n",
            "ANTONIO: (Resignado) Esta bien manana, pero si\n",
            "-----------------------------------\n",
            "Prime string: RECIO:\n",
            "RECIO: Me aleto para pagar la tiempo.\n",
            "BERTA:Tu lleche y hacer quemas, les volver o vender a todos.\n",
            "\n",
            "BERTA:\n",
            "-----------------------------------\n",
            "Prime string: Cuqui \n",
            "Cuqui y si no, tal vez el del badido y el torneo de pinchos y revisar.\n",
            "\n",
            "ANTONIO: (Resignado) Buena idea.\n",
            "J\n",
            "-----------------------------------\n",
            "Prime string: el pescador\n",
            "el pescador y le especial. Es una oportudicia y mantener el tema de la musica.\n",
            "JUDITH:EPeramos cuando mucha pro\n",
            "-----------------------------------\n",
            "Prime string: X087hNYB BHN BYFVuhsdbs\n",
            "X087hNYB BHN BYFVuhsdbsemas entre mes impiazo!\n",
            "\n",
            "ANTONIO: Que fantus en sigue. Cualto sigue es una idea paga en para entermi\n",
            "-----------------------------------\n"
          ]
        }
      ]
    },
    {
      "cell_type": "markdown",
      "source": [
        "Explicación: Aquí generamos texto utilizando el modelo entrenado:\n",
        "\n",
        "* Cadenas Aleatorias: Generamos cinco cadenas iniciales aleatorias de 5 caracteres y extendemos el texto a partir de ellas.\n",
        "* Cadenas Específicas: Utilizamos cadenas iniciales específicas para observar cómo el modelo continúa diferentes contextos.\n"
      ],
      "metadata": {
        "id": "kTUT_UNxqjia"
      }
    },
    {
      "cell_type": "markdown",
      "source": [
        "**Celda 10: Conclusión y Observaciones**"
      ],
      "metadata": {
        "id": "16Fr5rYE4626"
      }
    },
    {
      "cell_type": "markdown",
      "source": [
        "### **Resumen de lo Aprendido:**\n",
        "1. **Construcción de una Char-RNN:**\n",
        "   - Aprendimos a definir una arquitectura RNN básica utilizando **GRU** o **LSTM** para la generación de texto a nivel de carácter.\n",
        "   \n",
        "2. **Preparación y Procesamiento de Datos:**\n",
        "   - Procesamos el texto de Shakespeare, lo convertimos a ASCII y lo transformamos en tensores de índices para ser utilizados por la RNN.\n",
        "   \n",
        "3. **Entrenamiento del Modelo:**\n",
        "   - Implementamos el ciclo de entrenamiento, monitoreando la pérdida y la perplejidad para evaluar el progreso del modelo.\n",
        "   \n",
        "4. **Generación de Texto:**\n",
        "   - Utilizamos el modelo entrenado para generar nuevas secuencias de texto basadas en cadenas iniciales aleatorias y específicas.\n",
        "   \n",
        "5. **Visualización de la Perplejidad:**\n",
        "   - Graficamos la perplejidad durante el entrenamiento para entender cómo mejora el modelo con el tiempo.\n",
        "\n",
        "### **Observaciones Importantes:**\n",
        "- **Perplejidad como Métrica:** La perplejidad es una métrica útil para evaluar la capacidad del modelo para predecir el siguiente carácter en la secuencia. Una disminución constante en la perplejidad indica que el modelo está aprendiendo a generar texto más coherente.\n",
        "  \n",
        "- **Impacto de la Temperatura en la Generación de Texto:**\n",
        "  - **Temperaturas Más Altas (e.g., 1.0):** Generan texto más variado y creativo, pero pueden ser menos coherentes.\n",
        "  - **Temperaturas Más Bajas (e.g., 0.5):** Generan texto más predecible y coherente, pero menos variado.\n",
        "  \n",
        "- **Elección de la Arquitectura RNN:**\n",
        "  - **GRU vs. LSTM:** Aunque ambos son efectivos para manejar dependencias a largo plazo, las **LSTM** tienden a ser más poderosas pero también más complejas, mientras que las **GRU** son más simples y requieren menos recursos computacionales.\n",
        "\n",
        "### **Próximos Pasos:**\n",
        "- **Experimentar con Diferentes Arquitecturas:** Probar con **LSTM** en lugar de **GRU** y comparar los resultados.\n",
        "- **Ajustar Hiperparámetros:** Experimentar con diferentes tasas de aprendizaje, tamaños de lote, y dimensiones de la capa oculta para optimizar el rendimiento del modelo.\n",
        "- **Implementar Técnicas de Regularización:** Añadir **Dropout** para prevenir el sobreajuste y mejorar la generalización del modelo.\n",
        "- **Extender la Longitud de Generación:** Generar textos más largos para evaluar la coherencia a mayor escala.\n",
        "- **Explorar Modelos Más Avanzados:** Investigar modelos de generación de texto más avanzados como **Transformers** para mejorar la calidad y coherencia del texto generado.\n",
        "\n",
        "### **Recursos Adicionales:**\n",
        "Para profundizar más en el entrenamiento y la optimización de RNNs, te recomiendo revisar los siguientes recursos:\n",
        "- **Documentación de PyTorch:**\n",
        "  - [Tutorial de RNN en PyTorch](https://pytorch.org/tutorials/intermediate/char_rnn_generation_tutorial.html)\n",
        "  \n",
        "- **Video Tutorial:**\n",
        "  - [Curso de PyTorch - RNNs y Generación de Texto](https://www.youtube.com/watch?v=8uR4Zv4K8HI)\n",
        "  \n",
        "- **Libros y Artículos:**\n",
        "  - *Deep Learning* por Ian Goodfellow, Yoshua Bengio y Aaron Courville.\n",
        "\n",
        "¡Felicidades por completar el ejercicio!\n"
      ],
      "metadata": {
        "id": "t2VILyv548EP"
      }
    }
  ]
}