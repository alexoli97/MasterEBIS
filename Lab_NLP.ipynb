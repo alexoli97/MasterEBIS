{
  "cells": [
    {
      "cell_type": "markdown",
      "source": [
        "## **Redes Neuronales y Máquinas de Aprendizaje**"
      ],
      "metadata": {
        "id": "ANET5PYRICW5"
      }
    },
    {
      "cell_type": "markdown",
      "source": [
        "Procesamiento de Lenguaje Natural (NLP) es un conjunto de técnicas y algoritmos que utilizan computadoras para analizar y comprender el lenguaje humano natural. NLP puede utilizarse para resolver una variedad de problemas, por ejemplo:\n",
        "\n",
        "* Identificación de Temas: ¿Cuáles son los temas, personas, empresas o lugares discutidos en este texto?\n",
        "* Análisis de Sentimientos: ¿Este texto transmite un sentimiento positivo, negativo o neutral sobre una entidad o tema?\n",
        "* Traducción Automática: Convertir el input de un idioma a otro, por ejemplo, de inglés a francés.\n",
        "* Texto a Voz: Convertir el input hablado en su forma escrita.\n",
        "* Comprensión e Interpretación: ¿Qué información responderá a una pregunta específica?"
      ],
      "metadata": {
        "id": "srLqm1NuIHwQ"
      }
    },
    {
      "cell_type": "markdown",
      "metadata": {
        "id": "d9d-1mJrB4Ax"
      },
      "source": [
        "## **Ejercico 1: Procesamiento del Lenguaje Natural (PLN)**\n",
        "\n",
        "El Procesamiento del Lenguaje Natural (PLN) es un conjunto de técnicas y algoritmos que utilizan computadoras para analizar el lenguaje humano natural. El PLN se puede utilizar para resolver una variedad de problemas, por ejemplo:\n",
        "\n",
        "*   Identificación de Temas: ¿Cuáles son los temas, personas, empresas o lugares discutidos en este texto?\n",
        "*   Análisis de Sentimientos: ¿Este texto transmite un sentimiento positivo, negativo o neutral sobre una entidad o tema específico?\n",
        "* Traducción Automática: Convierte la entrada de un idioma a otro, por ejemplo, de inglés a francés.\n",
        "* Texto a Voz: Convierte la entrada hablada en su forma escrita.\n",
        "Comprensión e Interpretación: ¿Qué información responderá una pregunta específica?\n",
        "\n",
        "Este ejercicio te enseñará los conceptos básicos del PLN utilizando redes neuronales, enfocándose en la clasificación de texto.\n",
        "* Primero, aprenderás algunas formas comunes de codificar/representar texto como vectores/matrices, para que una red neuronal pueda usarlo como entrada.\n",
        "* Luego, utilizarás esas representaciones para codificar un conjunto de datos de textos y clasificarlos.\n",
        "* Finalmente, aprenderás a utilizar algunos modelos más avanzados de redes neuronales para generar texto.\n",
        "\n",
        "Antes de comenzar, también deberás descargar e importar al Collab el archivo 'wiki.simple.vec', que contiene las representaciones de palabras que se usarán en este ejercicio.\n",
        "\n",
        "### Literatura\n",
        "\n",
        "Las siguientes secciones en el [libro de deeplearningbook.org](https://www.deeplearningbook.org/) son relevantes para este ejercicio.\n",
        "\n",
        "* 12.4 - Procesamiento del Lenguaje Natural\n",
        "   - (más detalles sobre las subsecciones ya que no todas las subsecciones de PLN son útiles para el curso)\n",
        "\n",
        "Lectura opcional para más detalles sobre RNNs:\n",
        "* 10 - Modelado de Secuencias: Redes Recurrentes y Recursivas\n"
      ]
    },
    {
      "cell_type": "markdown",
      "source": [
        "**Celda 1: Instalación de Dependencias**"
      ],
      "metadata": {
        "id": "MUXQyNTtIiRX"
      }
    },
    {
      "cell_type": "code",
      "source": [
        "# Si ya tienes instaladas las librerías necesarias, comenta la siguiente línea:\n",
        "!pip install torch torchvision torchaudio torchtext gensim matplotlib scikit-learn\n"
      ],
      "metadata": {
        "id": "dhPIsNFMIkeg"
      },
      "execution_count": null,
      "outputs": []
    },
    {
      "cell_type": "markdown",
      "source": [
        "**Celda 2: Importación de Librerías**"
      ],
      "metadata": {
        "id": "nVOBg-1Mhmzo"
      }
    },
    {
      "cell_type": "code",
      "execution_count": null,
      "metadata": {
        "id": "uctAzIiIB4Ay"
      },
      "outputs": [],
      "source": [
        "import torch\n",
        "import torch.nn as nn\n",
        "import torch.optim as optim\n",
        "from torch.utils.data import DataLoader, Dataset\n",
        "import torchtext\n",
        "from torchtext.datasets import AG_NEWS\n",
        "from torchtext.data.utils import get_tokenizer\n",
        "from torchtext.vocab import build_vocab_from_iterator\n",
        "import matplotlib.pyplot as plt\n",
        "import numpy as np\n",
        "import random\n",
        "import gensim\n",
        "from sklearn.metrics import confusion_matrix\n",
        "from sklearn.decomposition import PCA\n",
        "import seaborn as sns"
      ]
    },
    {
      "cell_type": "markdown",
      "metadata": {
        "id": "QMa6x8G0B4Ay"
      },
      "source": [
        "# 1. Convertir Oraciones en Matrices\n",
        "\n",
        "Las redes neuronales solo pueden procesar números, por lo que cualquier texto que queramos procesar debe convertirse en números, es decir, vectores.\n",
        "\n",
        "## Tipos de Representaciones de Texto:\n",
        "- **Bag of Words (BoW)**: Cuenta cuántas veces aparece cada palabra en un texto.\n",
        "- **Word2Vec (Skip-gram)**: Crea vectores complejos que representan palabras en un espacio de múltiples dimensiones.\n",
        "\n",
        "## Preprocesamiento del Texto:\n",
        "Antes de convertir el texto en vectores, realizamos varios pasos:\n",
        "\n",
        "1. **Limpieza**: Remover partes innecesarias del texto, como caracteres especiales y convertir todas las letras a minúsculas.\n",
        "   - Ejemplo: `\"¿A Michael le gustan 99 gatos?\"` → `\"a michael le gustan 99 gatos\"`\n",
        "   \n",
        "2. **Tokenización**: Dividir el texto en partes más pequeñas, como palabras.\n",
        "   - Ejemplo: `\"a michael le gustan 99 gatos\"` → `[\"a\", \"michael\", \"le\", \"gustan\", \"99\", \"gatos\"]`\n",
        "\n",
        "3. **Lematización**: Convertir palabras a su forma base.\n",
        "   - Ejemplo: `[\"a\", \"michael\", \"le\", \"gustan\", \"99\", \"gatos\"]` → `[\"a\", \"michael\", \"le\", \"gustar\", \"99\", \"gato\"]`\n",
        "\n",
        "4. **Indexación**: Asignar un número a cada palabra.\n",
        "   - Ejemplo: `[\"a\", \"michael\", \"le\", \"gustar\", \"99\", \"gato\"]` → `[1, 2, 3, 4, 5, 6]`\n",
        "\n",
        "5. **Embeddings**: Convertir las palabras en vectores numéricos que la red neuronal pueda entender.\n",
        "\n",
        "Para este ejercicio, solo necesitas enfocarte en **tokenización**, **indexación** y **embeddings**.\n",
        "\n",
        "## Conjuntos de Datos Utilizados:\n",
        "- **\"Cat on the Mat\"**: Un pequeño conjunto de datos para visualizar y entender los métodos.\n",
        "- **AG News**: Un gran conjunto de datos con extractos de artículos de noticias de diferentes temas, útil para entrenar clasificadores de noticias.\n"
      ]
    },
    {
      "cell_type": "markdown",
      "source": [
        "**Celda 3: Creación del Dataset \"Cat on the mat\"**"
      ],
      "metadata": {
        "id": "PGXSD60YhuxI"
      }
    },
    {
      "cell_type": "code",
      "execution_count": null,
      "metadata": {
        "id": "pl1cpkvGB4Az"
      },
      "outputs": [],
      "source": [
        "import itertools\n",
        "\n",
        "animals = ['cat','dog','goat','elephant','eagle','zebra','rhino', 'hippo']\n",
        "actions = ['sat','stood','jumped','slept']\n",
        "furniture = ['mat','rug','sofa','bed']\n",
        "\n",
        "# Generar todas las combinaciones de animal, acción y mueble\n",
        "animal_corpus = [f'el {x[0]} {x[1]} en el {x[2]}' for x in itertools.product(animals, actions, furniture)]\n",
        "vocabulary_size = len(animals) + len(actions) + len(furniture) + 2\n",
        "\n",
        "print(f'Hay {len(animal_corpus)} oraciones en el corpus, con un vocabulario de {vocabulary_size} palabras')\n",
        "print(f'La primera oración en el corpus es \"{animal_corpus[0]}\"')\n"
      ]
    },
    {
      "cell_type": "markdown",
      "metadata": {
        "id": "3RUl8rvRB4Az"
      },
      "source": [
        "**Celda 4: Descarga y Preparación del Dataset AG News**"
      ]
    },
    {
      "cell_type": "code",
      "execution_count": null,
      "metadata": {
        "scrolled": true,
        "id": "ORhSD3LSB4Az"
      },
      "outputs": [],
      "source": [
        "# Descargar, tokenizar e indexar el conjunto de datos AG News\n",
        "#Se hace en una celda individual porque puede tardar algo de tiempo\n",
        "\n",
        "ag_train, ag_test = AG_NEWS(ngrams=1, vocab=None, root='data')"
      ]
    },
    {
      "cell_type": "code",
      "execution_count": null,
      "metadata": {
        "scrolled": true,
        "id": "PCY50_hyB4Az"
      },
      "outputs": [],
      "source": [
        "# Nuestras etiquetas son números, aquí se muestra qué tipo de artículo representan\n",
        "ag_labels = {\n",
        "    0 : 'Mundo',\n",
        "    1 : 'Deportes',\n",
        "    2 : 'Negocios',\n",
        "    3 : 'Ciencia/Tecnología'\n",
        "}\n",
        "\n",
        "# 'vocab' es una clase que nos dará el índice de cualquier palabra/token (vocab['hola'] = <número>)\n",
        "vocab = ag_train.get_vocab()\n",
        "\n",
        "# 'nr2word' es una lista que contiene las palabras para cada índice (nr2word[5678] = <palabra/token>)\n",
        "nr2word = vocab.itos\n",
        "\n",
        "# Función para convertir un tensor en texto\n",
        "def tensor2text(tensor):\n",
        "    return ' '.join([nr2word[index] for index in tensor])\n",
        "\n",
        "# Función para convertir texto en tensor indexado\n",
        "def text2tensor(text):\n",
        "    tensor = torch.Tensor([vocab[token] for token in text.split(' ')])\n",
        "    return tensor.int()\n",
        "\n",
        "# Ver qué contiene el conjunto de datos\n",
        "ag_train_len = len(ag_train) # Número de entradas en AG_NEWS\n",
        "\n",
        "print(\n",
        "    f'ag_train contiene {len(ag_train)} fragmentos de texto etiquetados '\n",
        "    f'y tiene un tamaño de vocabulario de {len(vocab)}\\n'\n",
        "    f'En el índice 0, ag_train contiene:\\n{ag_train[0]}\\n'\n",
        "    f'que tiene la etiqueta {ag_train[0][0]} que se traduce en \"{ag_labels[ag_train[0][0]]}\" '\n",
        "    f'y el fragmento de texto se traduce en:\\n{tensor2text(ag_train[0][1])}'\n",
        ")"
      ]
    },
    {
      "cell_type": "markdown",
      "metadata": {
        "id": "hLhMNSZBB4Az"
      },
      "source": [
        "**Celda 5: Implementación del Tokenizador Simple y la Clase SimpleVocabulary**\n",
        "\n",
        "\n",
        "\n",
        "Este nuevo conjunto de textos necesita ser tokenizado e indexado antes de usarse.\n",
        "\n",
        "**Ejercicio 1.1:** Escribe una función de tokenización y una clase de vocabulario que te permita obtener el índice de una palabra y la palabra correspondiente a un índice.\n"
      ]
    },
    {
      "cell_type": "code",
      "execution_count": null,
      "metadata": {
        "id": "SElS8HiIB4Az"
      },
      "outputs": [],
      "source": [
        "def simple_tokenizer(text):\n",
        "    '''\n",
        "    Toma un texto y devuelve una lista de palabras individuales\n",
        "    Args:\n",
        "        text (str): El texto a tokenizar\n",
        "    Returns ([str]): Lista de palabras\n",
        "    '''\n",
        "    # ESCRIBE UN TOKENIZADOR (Sugerencia: usa la función 'split')\n",
        "    return text.split()\n",
        "\n",
        "class SimpleVocabulary():\n",
        "\n",
        "    def __init__(self, corpus):\n",
        "        '''\n",
        "        Toma un corpus, lo tokeniza y crea diccionarios para índices y palabras\n",
        "        Args:\n",
        "            corpus ([str]): Lista de textos no tokenizados\n",
        "        '''\n",
        "        self.token2index = {}\n",
        "        self.index2token = []\n",
        "        current_index = 0\n",
        "        for text in corpus:\n",
        "            for token in simple_tokenizer(text):\n",
        "                if token not in self.token2index:\n",
        "                    self.token2index[token] = current_index\n",
        "                    self.index2token.append(token)\n",
        "                    current_index += 1\n",
        "\n",
        "    def get_index(self, token):\n",
        "        '''\n",
        "        Toma una palabra y devuelve su índice\n",
        "        Args:\n",
        "            token (str): Una palabra\n",
        "        Returns (int): Índice de la palabra\n",
        "        '''\n",
        "        return self.token2index.get(token, -1) # Devuelve -1 si no está\n",
        "\n",
        "    def get_token(self, index):\n",
        "        '''\n",
        "        Toma un índice y devuelve la palabra correspondiente\n",
        "        Args:\n",
        "            index (int): Un índice\n",
        "        Returns (str): La palabra correspondiente\n",
        "        '''\n",
        "        if index < len(self.index2token):\n",
        "            return self.index2token[index]\n",
        "        return \"<UNK>\"\n",
        "\n",
        "    def __len__(self):\n",
        "        '''\n",
        "        Devuelve el número de palabras en el vocabulario\n",
        "        '''\n",
        "        return len(self.index2token)\n",
        "\n",
        "def index_sequence(sequence, vocabulary):\n",
        "    '''\n",
        "    Toma una lista de palabras y un vocabulario, y devuelve una lista de índices\n",
        "    Args:\n",
        "        sequence ([str]): Lista de palabras\n",
        "        vocabulary (SimpleVocabulary): El vocabulario\n",
        "    Returns ([int]): Lista de índices\n",
        "    '''\n",
        "    return [vocabulary.get_index(token) for token in sequence]\n"
      ]
    },
    {
      "cell_type": "markdown",
      "metadata": {
        "id": "3SjGYa0WB4A0"
      },
      "source": [
        "**Celda 6: Verificación del Tokenizador y SimpleVocabulary**"
      ]
    },
    {
      "cell_type": "code",
      "execution_count": null,
      "metadata": {
        "id": "vtlAlxnDB4A0"
      },
      "outputs": [],
      "source": [
        "animal_vocab = SimpleVocabulary(animal_corpus)\n",
        "test_sequence = 'el gato se puso en la estera'\n",
        "tokenized_sequence = simple_tokenizer(test_sequence)\n",
        "print(tokenized_sequence)\n",
        "indexed_sequence = index_sequence(tokenized_sequence, animal_vocab)\n",
        "print(indexed_sequence)\n",
        "assert len(tokenized_sequence) == 6, 'La secuencia tokenizada debe contener todas las palabras de la secuencia original'\n",
        "assert len(tokenized_sequence) == len(indexed_sequence), 'La secuencia indexada debe tener la misma longitud que la secuencia tokenizada'\n",
        "assert indexed_sequence[0] == indexed_sequence[4], 'El índice de la misma palabra debe ser igual'\n",
        "assert len(animal_vocab) >= 18, 'Debe haber al menos 18 palabras en el vocabulario (más si tienes palabras fuera de vocabulario)'\n",
        "print('¡El tokenizador simple y SimpleVocabulary parecen estar bien implementados!')\n"
      ]
    },
    {
      "cell_type": "markdown",
      "metadata": {
        "id": "wMAk9ileB4A0"
      },
      "source": [
        "## Bag of Words (BoW)\n",
        "\n",
        "Bag of Words (BoW) es una forma sencilla de representar texto. Cada texto se representa como un vector donde cada posición corresponde a una palabra del vocabulario y el valor indica cuántas veces aparece esa palabra en el texto.\n",
        "\n",
        "Ejemplo:\n",
        "\n",
        "Vocabulario: [\"el\", \"gato\", \"perro\", \"se\", \"puso\", \"en\", \"la\", \"estera\"]\n",
        "\n",
        "Texto: \"el gato se puso en la estera\"\n",
        "\n",
        "Representación BoW: [1, 1, 0, 1, 1, 1, 1, 1]\n",
        "\n",
        "![1_axffCQ9ae0FHXxhuy66FbA.png](data:image/png;base64,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)\n",
        "\n",
        "\n",
        "**Ejercicio 1.2**: Crea un codificador BoW que tome una representación indexada de un texto y devuelva su representación BoW. ¿Qué tan dispersos son los vectores (cuántos elementos son cero)? ¿Por qué ocurre esto?"
      ]
    },
    {
      "cell_type": "markdown",
      "source": [
        "**Celda 7: Implementación del BoW Embedder**"
      ],
      "metadata": {
        "id": "DFcH6UIgiFqx"
      }
    },
    {
      "cell_type": "code",
      "execution_count": null,
      "metadata": {
        "id": "cEjPnoj9B4A0"
      },
      "outputs": [],
      "source": [
        "def bow_embedder(tensor, vocab_length):\n",
        "    '''\n",
        "    Toma un tensor y el tamaño del vocabulario, y devuelve la representación BoW\n",
        "    Args:\n",
        "        tensor (torch.Tensor): Tensor de palabras representadas por su índice en el vocabulario\n",
        "        vocab_length (int): Número de palabras en el vocabulario\n",
        "    Returns (torch.Tensor): Tensor con la representación BoW\n",
        "    '''\n",
        "    ## AÑADE CÓDIGO AQUI\n",
        "    ...\n"
      ]
    },
    {
      "cell_type": "markdown",
      "metadata": {
        "id": "EUgI1Qu6B4A0"
      },
      "source": [
        "**Celda 8: Verificación del BoW Embedder**"
      ]
    },
    {
      "cell_type": "code",
      "execution_count": null,
      "metadata": {
        "id": "9yIo7GYFB4A0"
      },
      "outputs": [],
      "source": [
        "vocab_length = len(vocab)\n",
        "\n",
        "sentence_1 = 'el gato baila bien por un rato'\n",
        "sentence_2 = 'por un rato el pequeño gato baila bien'\n",
        "sentence_3 = 'el perro se sienta por un rato'\n",
        "sentence_4 = 'el gato y el perro'\n",
        "\n",
        "sentence_1_indexed = text2tensor(sentence_1)\n",
        "sentence_2_indexed = text2tensor(sentence_2)\n",
        "sentence_3_indexed = text2tensor(sentence_3)\n",
        "sentence_4_indexed = text2tensor(sentence_4)\n",
        "\n",
        "sentence_1_bow = bow_embedder(sentence_1_indexed, vocab_length)\n",
        "sentence_2_bow = bow_embedder(sentence_2_indexed, vocab_length)\n",
        "sentence_3_bow = bow_embedder(sentence_3_indexed, vocab_length)\n",
        "sentence_4_bow = bow_embedder(sentence_4_indexed, vocab_length)\n",
        "\n",
        "# Comprobaciones\n",
        "assert isinstance(sentence_1_bow, torch.Tensor), 'La representación BoW debe ser un tensor'\n",
        "assert len(sentence_1_bow) == vocab_length, 'La longitud de BoW debe ser igual al tamaño del vocabulario'\n",
        "assert torch.all(sentence_1_bow == sentence_2_bow), 'Textos con las mismas palabras deben tener la misma representación BoW'\n",
        "assert torch.any(sentence_1_bow != sentence_3_bow), 'Textos con palabras diferentes deben tener representaciones BoW distintas'\n",
        "assert sum(sentence_1_bow) == len(sentence_1_indexed), 'La suma de BoW debe ser igual al número de palabras en el texto'\n",
        "assert max(sentence_4_bow) == 2, 'La representación BoW debe contar las ocurrencias de cada palabra'\n",
        "\n",
        "print('¡El codificador BoW parece estar bien implementado!')\n"
      ]
    },
    {
      "cell_type": "markdown",
      "metadata": {
        "id": "Z8ct0Gd5B4A1"
      },
      "source": [
        "**Celda 9: Visualización de BoW**\n",
        "\n",
        "Antes de entrenar una red neuronal con BoW, veamos cómo se ve usando el conjunto de datos \"Cat on the Mat\"."
      ]
    },
    {
      "cell_type": "code",
      "execution_count": null,
      "metadata": {
        "id": "fklX956WB4A1"
      },
      "outputs": [],
      "source": [
        "## Let's take a sentence and create the BoW representation for it\n",
        "animal_vocab = SimpleVocabulary(animal_corpus) # Crear vocabulario\n",
        "test_sequence = 'el gato se puso en la estera' # Crear la oración\n",
        "tokenized_sequence = simple_tokenizer(test_sequence) # Tokenizar la oración\n",
        "indexed_sequence = torch.Tensor(index_sequence(tokenized_sequence, animal_vocab)) # Indexar y convertir a tensor\n",
        "bow_sequence = bow_embedder(indexed_sequence, len(animal_vocab)) # Crear la representación BoW\n",
        "\n",
        "print(f'La oración \\n\"{test_sequence}\"\\nse representa como BoW \\n{bow_sequence}\\n')\n"
      ]
    },
    {
      "cell_type": "markdown",
      "metadata": {
        "id": "e1QrxeyyB4A1"
      },
      "source": [
        "**Celda 10: Creación del BoWDataset y DataLoaders**\n",
        "\n",
        "Ahora que tenemos una forma de representar nuestras oraciones, usémosla para entrenar un clasificador de noticias con el conjunto de datos AG News.\n",
        "\n",
        "**Ejercicio 1.3**: Crea una red neuronal y los ciclos de entrenamiento y prueba, logrando al menos un 80% de precisión en el conjunto de prueba.\n",
        "\n"
      ]
    },
    {
      "cell_type": "code",
      "execution_count": null,
      "metadata": {
        "id": "slbBIt8YB4A1"
      },
      "outputs": [],
      "source": [
        "# Creamos nuestro propio dataset para cargar los textos embebidos con BoW\n",
        "class BoWDataset(torch.utils.data.Dataset):\n",
        "    def __init__(self, dataset, embedder):\n",
        "        self.dataset = dataset\n",
        "        self.embedder = embedder\n",
        "\n",
        "    def __getitem__(self, index):\n",
        "        return self.dataset[index][0], self.embedder(self.dataset[index][1], len(vocab))\n",
        "\n",
        "    def __len__(self):\n",
        "        return len(self.dataset)\n",
        "\n",
        "bow_train_data = BoWDataset(ag_train, bow_embedder)\n",
        "bow_test_data = BoWDataset(ag_test, bow_embedder)\n",
        "bow_trainloader = DataLoader(bow_train_data, batch_size=1000, shuffle=True)\n",
        "bow_testloader = DataLoader(bow_test_data, batch_size=1000, shuffle=False)"
      ]
    },
    {
      "cell_type": "markdown",
      "source": [
        "**Celda 11: Creación de la Red Neuronal para Entrenar**"
      ],
      "metadata": {
        "id": "X-66KV84in8A"
      }
    },
    {
      "cell_type": "code",
      "source": [
        "\n",
        "## CREAR UNA RED NEURONAL PARA ENTRENAR\n",
        "#network = nn.Sequential(\n",
        "#    ... # PISTA: Queremos que nuestra entrada sea del tamaño de nuestra incrustación BoW y nuestra salida sea las diferentes clases posibles.\n",
        "#)\n"
      ],
      "metadata": {
        "id": "kSI1dpdSiluY"
      },
      "execution_count": null,
      "outputs": []
    },
    {
      "cell_type": "markdown",
      "source": [
        "**Celda 12: Definición del Optimizador, Función de Pérdida y Ciclo de Entrenamiento**"
      ],
      "metadata": {
        "id": "Ioo0fg0Tirql"
      }
    },
    {
      "cell_type": "code",
      "execution_count": null,
      "metadata": {
        "id": "io8B1paLB4A1"
      },
      "outputs": [],
      "source": [
        "# Usar el optimizador Adam\n",
        "optimizer =\n",
        "\n",
        "# Función de pérdida adecuada para clasificación de múltiples clases\n",
        "loss_function =\n",
        "\n",
        "epochs = 1 # El conjunto de datos es muy grande, por lo que una época debería ser suficiente para nuestro propósito\n",
        "\n",
        "for epoch in range(epochs):\n",
        "    # For each batch of data (since the dataset is too large to run all data through the network at once)\n",
        "    for batch_nr, (labels, data) in enumerate(bow_trainloader):\n",
        "       ## ESCRIBE EL CÓDIGO DE ENTRENAMIENTO AQUÍ\n",
        "       #...\n",
        "\n",
        "\n",
        "        # Predecir para cada texto representado por BoW en el lote a qué clase pertenecen\n",
        "        prediction =\n",
        "\n",
        "        # Calcula la pérdida de la predicción comparándola con la salida esperada\n",
        "        loss =\n",
        "\n",
        "        # Backpropagate the loss through the network to find the gradients of all parameters\n",
        "        loss\n",
        "\n",
        "        # Backpropagate la pérdida a través de la red para encontrar los gradientes de todos los parámetros\n",
        "        optimizer\n",
        "\n",
        "        # Borrar los valores de gradiente almacenados\n",
        "        optimizer\n",
        "\n",
        "        #Imprime la época, el lote y la pérdida\n",
        "        print(\n",
        "            f'\\rEpoch {epoch+1} [{batch_nr+1}/{len(bow_trainloader)}] - Loss: {loss}',\n",
        "            end=''\n",
        "        )\n",
        "\n"
      ]
    },
    {
      "cell_type": "markdown",
      "metadata": {
        "id": "v57UqS8EB4A2"
      },
      "source": [
        "Debemos analizar el rendimiento de nuestra red(network) además de la pérdida. Calculemos la precisión y la matriz de confusión.\n",
        "\n",
        "**Ejercicio 1.4**: Calcula la precisión y la matriz de confusión usando las predicciones del conjunto de prueba.\n"
      ]
    },
    {
      "cell_type": "markdown",
      "source": [
        "**Celda 13: Evaluación del Rendimiento del Modelo (Precisión)**"
      ],
      "metadata": {
        "id": "KYfVs-2nizne"
      }
    },
    {
      "cell_type": "code",
      "execution_count": null,
      "metadata": {
        "id": "K5IMyTFJB4A2"
      },
      "outputs": [],
      "source": [
        "with torch.no_grad():\n",
        "    classes = [0, 1, 2, 3]\n",
        "    correct = 0\n",
        "    total = 0\n",
        "    y_pred = []\n",
        "    y_true = []\n",
        "    # Para cada lote de datos de prueba (ya que el conjunto de datos es demasiado grande para ejecutar todos los datos a través de la red a la vez)\n",
        "    # Calcular la precisión\n",
        "    for batch_nr, (labels, data) in enumerate(bow_testloader):\n",
        "        ## ESCRIBA AQUÍ EL CÓDIGO DE PRUEBA\n",
        "        ...\n",
        "\n",
        "\n",
        "    print(f'La precisión de la red es {str(100*correct/total)[:4]}%.')\n"
      ]
    },
    {
      "cell_type": "markdown",
      "source": [
        "**Celda 14: Plot de la Matriz de Confusión**"
      ],
      "metadata": {
        "id": "i-agxIafje01"
      }
    },
    {
      "cell_type": "code",
      "execution_count": null,
      "metadata": {
        "id": "dtbJEeGNB4A2"
      },
      "outputs": [],
      "source": [
        "def plot_confusion_matrix(cm, classes,\n",
        "                          normalize=False,\n",
        "                          title='Matriz de Confusión',\n",
        "                          cmap=plt.cm.Blues):\n",
        "    \"\"\"\n",
        "    Esta función imprime y grafica la matriz de confusión.\n",
        "    La normalización se puede aplicar configurando `normalize=True`.\n",
        "    \"\"\"\n",
        "    import itertools\n",
        "    if normalize:\n",
        "        cm = cm.astype('float') / cm.sum(axis=1)[:, np.newaxis]\n",
        "        print(\"Matriz de confusión normalizada\")\n",
        "    else:\n",
        "        print('Matriz de confusión, sin normalizar')\n",
        "\n",
        "    print(cm)\n",
        "\n",
        "    plt.imshow(cm, interpolation='nearest', cmap=cmap)\n",
        "    plt.title(title)\n",
        "    plt.colorbar()\n",
        "    tick_marks = np.arange(len(classes))\n",
        "    plt.xticks(tick_marks, classes, rotation=45)\n",
        "    plt.yticks(tick_marks, classes)\n",
        "\n",
        "    fmt = '.2f' if normalize else 'd'\n",
        "    thresh = cm.max() / 2.\n",
        "    for i, j in itertools.product(range(cm.shape[0]), range(cm.shape[1])):\n",
        "        plt.text(j, i, format(cm[i, j], fmt),\n",
        "                 horizontalalignment=\"center\",\n",
        "                 color=\"white\" if cm[i, j] > thresh else \"black\")\n",
        "\n",
        "    plt.ylabel('Etiqueta Verdadera')\n",
        "    plt.xlabel('Etiqueta Predicha')\n",
        "    plt.tight_layout()\n",
        "\n",
        "cnf_matrix = confusion_matrix(y_true, y_pred, labels=[0, 1, 2, 3])\n",
        "np.set_printoptions(precision=2)\n",
        "\n",
        "# Graficar la matriz de confusión sin normalizar\n",
        "plt.figure()\n",
        "plot_confusion_matrix(cnf_matrix, classes=['Mundo', 'Deportes', 'Negocios', 'Ciencia/Tecnología'],\n",
        "                      title='Matriz de Confusión, sin normalizar')\n",
        "plt.show()\n"
      ]
    },
    {
      "cell_type": "markdown",
      "source": [
        "**Celda 15: Predicción de una Categoría para una Oración de Prueba**"
      ],
      "metadata": {
        "id": "8-vp77W8jooR"
      }
    },
    {
      "cell_type": "code",
      "source": [
        "sentence_index = 0\n",
        "prediction = torch.argmax(network(torch.unsqueeze(bow_embedder(ag_train[sentence_index][1], len(vocab)), dim=0))).item()\n",
        "print(\n",
        "    f'La red predijo que \\n\"{tensor2text(ag_train[sentence_index][1])}\"\\n pertenece a la categoría {ag_labels[prediction]}'\n",
        ")"
      ],
      "metadata": {
        "id": "d2qi_flhjqp-"
      },
      "execution_count": null,
      "outputs": []
    },
    {
      "cell_type": "markdown",
      "metadata": {
        "id": "V9AVpI09B4A2"
      },
      "source": [
        "## 2. Word2Vec\n",
        "\n",
        "Las incrustaciones de Bag of Words (BoW) tienen algunos problemas. Primero, ignoran el orden de las palabras, que puede ser importante. Segundo, el tamaño de la representación crece con el tamaño del vocabulario, lo que genera vectores dispersos (muchos elementos son cero).\n",
        "\n",
        "Una alternativa común que soluciona estos problemas son las incrustaciones (Embeddings) **Word2Vec**. Word2Vec aprende representaciones densas (con menos dimensiones, típicamente entre 100 y 1000) utilizando aprendizaje automático. Un texto se representa como una matriz donde cada fila o columna corresponde a una palabra.\n",
        "\n",
        "### ¿Cómo se aprende una incrustación?\n",
        "\n",
        "Word2Vec usa el principio de que \"una palabra se define por el contexto que la rodea\". Existen dos enfoques principales:\n",
        "\n",
        "- **Skip-Gram**: Predecir las palabras de contexto a partir de una palabra central.\n",
        "- **Continuous Bag of Words (CBoW)**: Predecir una palabra central a partir de sus palabras de contexto.\n",
        "\n",
        "Ambos métodos ayudan a que palabras similares tengan representaciones similares, lo que facilita su uso en tareas como clasificación o predicción.\n",
        "\n",
        "Entrenar buenas incrustaciones requiere grandes conjuntos de datos, pero esto solo se hace una vez y luego se pueden usar en múltiples aplicaciones. Para entender mejor el proceso, entrenaremos un pequeño conjunto de palabras usando el dataset \"cat on the mat\", con el objetivo de agrupar palabras similares en el espacio de codificación.\n",
        "\n",
        "![cbowword2vec.png](data:image/png;base64,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)"
      ]
    },
    {
      "cell_type": "markdown",
      "metadata": {
        "id": "Rh8asbrPB4A2"
      },
      "source": [
        "### Incrustación Skip-gram\n",
        "\n",
        "En las incrustaciones **Skip-gram**, queremos predecir las palabras circundantes a partir de una palabra dada.\n",
        "En lugar de predecir todas las palabras circundantes a la vez, creamos pares de contexto y objetivo.\n",
        "Definimos un tamaño de ventana y creamos un par contexto-objetivo donde la palabra central es el contexto, y cada palabra dentro de la ventana de palabras circundantes será nuestro objetivo.\n",
        "\n",
        "El objetivo del entrenamiento es predecir la palabra objetivo dado el contexto. Proporcionamos la función para crear los pares contexto-objetivo, por lo que no necesitas implementarla tú mismo.\n",
        "\n",
        "Usaremos estos pares contexto-objetivo para entrenar una red neuronal que predecirá la palabra objetivo y, durante el entrenamiento, la capa oculta de la red neuronal se convertirá en la incrustación de nuestra palabra de contexto.\n",
        "Para obtener la incrustación después del entrenamiento, simplemente ingresamos una palabra y extraemos los valores de la capa oculta de la red.\n"
      ]
    },
    {
      "cell_type": "markdown",
      "source": [
        "**Celda 16: Definición de Hyperparámetros para Skip-gram Embedding**"
      ],
      "metadata": {
        "id": "Wtt5goRujwWF"
      }
    },
    {
      "cell_type": "code",
      "execution_count": null,
      "metadata": {
        "id": "kLhjEOklB4A2"
      },
      "outputs": [],
      "source": [
        "# Parámetros para el Embedding Skip-gram\n",
        "WINDOW_SIZE = 2\n",
        "EMBEDDING_SIZE = 2"
      ]
    },
    {
      "cell_type": "markdown",
      "source": [
        "**Celda 17: Implementación de la Función Skip-grams**"
      ],
      "metadata": {
        "id": "NOewJwLxj2yl"
      }
    },
    {
      "cell_type": "code",
      "execution_count": null,
      "metadata": {
        "id": "r1IyCDSCB4A2"
      },
      "outputs": [],
      "source": [
        "import random\n",
        "\n",
        "# Código para generar pares de Skip-gram (no necesitas entenderlo completamente)\n",
        "def skipgrams(sequences, window_size=2, shuffle=True):\n",
        "    couples = []\n",
        "    for sequence in sequences:\n",
        "        for i, wi in enumerate(sequence):\n",
        "            window_start = max(0, i - window_size)\n",
        "            window_end = min(len(sequence), i + window_size + 1)\n",
        "            for j in range(window_start, window_end):\n",
        "                if j != i:\n",
        "                    wj = sequence[j]\n",
        "                    couples.append([wi, wj])\n",
        "    if shuffle:\n",
        "        seed = random.randint(0, 10**6)\n",
        "        random.shuffle(couples)\n",
        "    return torch.Tensor(couples)\n"
      ]
    },
    {
      "cell_type": "markdown",
      "source": [
        "**Celda 18: Ejemplo de Generación de Skip-grams**\n",
        "\n",
        "Vamos a ver cómo se generan los pares de Skip-gram a partir de una oración de prueba."
      ],
      "metadata": {
        "id": "zbiHKjortv1J"
      }
    },
    {
      "cell_type": "code",
      "execution_count": null,
      "metadata": {
        "id": "4eJohZcMB4A3"
      },
      "outputs": [],
      "source": [
        "# Creamos el vocabulario\n",
        "animal_vocab = SimpleVocabulary(animal_corpus)\n",
        "\n",
        "# Oración de prueba\n",
        "test_sequence = 'el gato se puso en la estera'\n",
        "print('La oración:', test_sequence)\n",
        "\n",
        "# Tokenizar la oración\n",
        "tokenized_sequence = simple_tokenizer(test_sequence)\n",
        "print('La oración dividida en tokens:', tokenized_sequence)\n",
        "\n",
        "# Indexar la oración\n",
        "indexed_sequence = [animal_vocab.get_index(token) for token in tokenized_sequence]\n",
        "print('La oración indexada:', indexed_sequence)\n",
        "\n",
        "# Generar los pares de Skip-gram sin mezclar\n",
        "skipgrams_sequence = skipgrams([indexed_sequence], shuffle=False).int()\n",
        "print('Todos los pares de Skip-gram generados:', skipgrams_sequence)\n",
        "\n",
        "# Convertir los índices de vuelta a palabras para ver los pares\n",
        "skipgrams_sequence_words = [(animal_vocab.get_token(x[0]), animal_vocab.get_token(x[1])) for x in skipgrams_sequence]\n",
        "print('Los pares de Skip-gram en texto:', skipgrams_sequence_words)\n",
        "\n",
        "# Ahora generamos todos los pares de Skip-gram para el conjunto de datos completo \"Cat on the Mat\".\n",
        "\n",
        "# Creamos el vocabulario\n",
        "animal_vocab = SimpleVocabulary(animal_corpus)\n",
        "\n",
        "# Indexar todo el texto del corpus\n",
        "indexed_text = [[animal_vocab.get_index(token) for token in simple_tokenizer(text)] for text in animal_corpus]\n",
        "\n",
        "# Generar todos los pares de Skip-gram con el tamaño de ventana definido\n",
        "pairs = skipgrams(indexed_text, WINDOW_SIZE)\n",
        "print(f'Hay {len(pairs)} pares de Skip-gram creados a partir del dataset \"el gato en la estera\".')\n"
      ]
    },
    {
      "cell_type": "markdown",
      "metadata": {
        "id": "VOlus-vSB4A3"
      },
      "source": [
        "**Ejercicio 2.1:** Crea la clase SkipgramEmbedder, una red neuronal que reduce la representación de una palabra a un espacio más pequeño y luego predice la palabra objetivo."
      ]
    },
    {
      "cell_type": "markdown",
      "source": [
        "**Celda 19: Implementación de SkipgramEmbedder**"
      ],
      "metadata": {
        "id": "pDkfrBEDkM1W"
      }
    },
    {
      "cell_type": "code",
      "execution_count": null,
      "metadata": {
        "id": "HYRFYmKjB4A3"
      },
      "outputs": [],
      "source": [
        "# Una capa de incrustación utilizada para convertir un int en one-hot\n",
        "to_onehot = nn.Embedding.from_pretrained(torch.eye(len(animal_vocab)))\n",
        "\n",
        "class SkipgramEmbedder(nn.Module):\n",
        "    def __init__(self):\n",
        "        super().__init__()\n",
        "        self.input_layer = nn.Linear(len(animal_vocab), EMBEDDING_SIZE)\n",
        "        self.output_layer = nn.Linear(EMBEDDING_SIZE, len(animal_vocab))\n",
        "        self.softmax = nn.Softmax()\n",
        "\n",
        "    def embed(self, context_index):\n",
        "        # IMPLEMENTA EL PASO DE INCRUSTACIÓN DEL MODELO SKIP-GRAM\n",
        "        context_onehot = ... # Crea una representación one-hot del índice\n",
        "        embedding = ... # Pasa la representación one-hot a través de la primera capa para crear una incrustación\n",
        "        return embedding\n",
        "\n",
        "    def forward(self, context_index):\n",
        "        # IMPLEMENTA LA PROPAGACIÓN HACIA ADELANTE PARA PREDECIR LA PALABRA OBJETIVO DESDE LA PALABRA DE CONTEXTO\n",
        "        embedding = ... # Usa la función self.embed\n",
        "        output = ... # Pasa la incrustación a través de la segunda capa para crear una salida\n",
        "        prediction = ... # Pasa la salida a través de softmax\n",
        "        return prediction\n"
      ]
    },
    {
      "cell_type": "markdown",
      "metadata": {
        "id": "Y0D9GNLBB4A3"
      },
      "source": [
        "#### Aprendiendo las incrustaciones\n",
        "Ejecuta el código a continuación para entrenar tu modelo de incrustación y que aprenda las representaciones de las palabras.\n",
        "\n",
        "**Ejercicio 2.2:** Implementa una red que entrene tu modelo de incrustación prediciendo las palabras objetivo basadas en el contexto.\n",
        "\n",
        "**Pista**: El código para entrenar es muy similar al ejercicio 1.3, pero ahora necesitamos usar *pares* para extraer los contextos actuales para la predicción y las palabras objetivo para la evaluación, además de alguna forma de rastrear los índices."
      ]
    },
    {
      "cell_type": "markdown",
      "source": [
        "**Celda 20: Entrenamiento del Modelo SkipgramEmbedder**"
      ],
      "metadata": {
        "id": "ano6AiEFkjTU"
      }
    },
    {
      "cell_type": "code",
      "execution_count": null,
      "metadata": {
        "id": "T0DShXkRB4A3"
      },
      "outputs": [],
      "source": [
        "model = SkipgramEmbedder()\n",
        "optimizer = torch.optim.RMSprop(model.parameters(), lr=0.01)\n",
        "loss_function = nn.CrossEntropyLoss()\n",
        "\n",
        "#Épocas\n",
        "TOTAL_EPOCHS = 1000\n",
        "BATCH_SIZE = len(pairs)\n",
        "EMBEDDING_SIZE = 100\n",
        "# Para cada época\n",
        "for epoch in range(TOTAL_EPOCHS):\n",
        "    #\n",
        "    # Una variable para contener la suma de todas las pérdidas de lote para esta época\n",
        "    epoch_loss = 0\n",
        "    #\n",
        "    # Índice inferior\n",
        "    start = 0\n",
        "    #\n",
        "    # Para cada lote\n",
        "    for batch_nr, end in enumerate(range(BATCH_SIZE,len(pairs),BATCH_SIZE)):\n",
        "        #\n",
        "        targets =\n",
        "        contexts =\n",
        "        #\n",
        "        start =\n",
        "        #\n",
        "        # Predecir para la palabra de contexto en el lote lo que la palabra de destino debe ser\n",
        "\n",
        "        #\n",
        "        # Calcula la pérdida de la predicción comparándola con la palabra objetivo real\n",
        "\n",
        "        #\n",
        "        # Backpropogate la pérdida a través de la red para encontrar los gradientes de todos los parámetros\n",
        "\n",
        "        #\n",
        "        # Actualizar los parámetros a lo largo de sus gradientes\n",
        "\n",
        "        #\n",
        "        # Borrar los valores de gradiente almacenados\n",
        "\n",
        "        #\n",
        "        # Añadir la pérdida a la pérdida total de época (item() convierte un escalar PyTorch en un tipo de dato Python normal)\n",
        "\n",
        "        #\n",
        "        # Imprimir la época, el lote y la pérdida\n",
        "        print(\n",
        "            f'\\rEpoch {epoch+1} [{batch_nr+1}/{len(targets)/BATCH_SIZE}] - Loss: {loss}',\n",
        "            end=''\n",
        "        )"
      ]
    },
    {
      "cell_type": "markdown",
      "metadata": {
        "id": "2G3p0gFCB4A3"
      },
      "source": [
        "#### Visualización de las incrustaciones(embeddings)\n",
        "No es necesario entender el código que se muestra a continuación, en su lugar se lo explicaremos aquí.\n",
        "A continuación, pasamos cada palabra del conjunto de datos «gato en la alfombra» por el SkimgramEmbedder para obtener su incrustación. Después, utilizamos [Prinipal Component Analysis (PCA)](https://en.wikipedia.org/wiki/Principal_component_analysis) para reducir la dimensionalidad de la incrustación a 2 (si ha cambiado la dimensionalidad a algo más grande) y luego lo imprimimos como un gráfico en el que cada grupo de palabras tiene el mismo color para mostrar cómo se agrupan. Lo ideal es que el entrenamiento haya convergido hacia agrupaciones claras de palabras similares. Si no es así, intente repetir el entrenamiento (no deberían ser necesarios muchos intentos para obtener una incrustación que separe claramente la mayoría de los grupos de palabras). Si no consigue una incrustación que separe todos los grupos, no se preocupe mientras la mayoría de los grupos estén separados."
      ]
    },
    {
      "cell_type": "markdown",
      "source": [
        "**Celda 21: Visualización de las Incrustaciones (Embeddings) usando PCA**"
      ],
      "metadata": {
        "id": "wzFd9sF0kxAj"
      }
    },
    {
      "cell_type": "code",
      "execution_count": null,
      "metadata": {
        "id": "moi9c9KcB4A4"
      },
      "outputs": [],
      "source": [
        "%matplotlib inline\n",
        "from sklearn.decomposition import PCA\n",
        "from matplotlib import pyplot as plt\n",
        "\n",
        "category_colors = {'animales' : 'green',\n",
        "                   'acciones' : 'blue',\n",
        "                   'muebles' : 'yellow'}\n",
        "\n",
        "colors = ['red'] * vocabulary_size\n",
        "\n",
        "for word in animal_vocab.index2token:\n",
        "    index = animal_vocab.get_index(word)\n",
        "    if word in animals:\n",
        "        colors[index] = category_colors['animales']\n",
        "    elif word in actions:\n",
        "        colors[index] = category_colors['acciones']\n",
        "    elif word in furniture:\n",
        "        colors[index] = category_colors['muebles']\n",
        "\n",
        "def plot_embeddings_after_pca(vectors):\n",
        "    \"\"\"\n",
        "    Realiza PCA y grafica los dos componentes principales\n",
        "    Args:\n",
        "      vectors (np.array): Conjunto de vectores\n",
        "    \"\"\"\n",
        "    pca = PCA(n_components=2)\n",
        "    vectors_pca = pca.fit_transform(vectors)\n",
        "    plt.figure(figsize=(20,10))\n",
        "    plt.scatter(vectors_pca[:,0], vectors_pca[:,1], c=colors, s=100, alpha=0.3)\n",
        "    plt.title('Embeddings después de PCA')\n",
        "    legend_elements = [\n",
        "                plt.Line2D([0], [0], marker='o', color=category_colors['animales'], label='Animales'),\n",
        "                plt.Line2D([0], [0], marker='o', color=category_colors['acciones'], label='Acciones'),\n",
        "                plt.Line2D([0], [0], marker='o', color=category_colors['muebles'], label='Muebles'),\n",
        "                plt.Line2D([0], [0], marker='o', color='red', label='Otros'),\n",
        "              ]\n",
        "\n",
        "    # Crear la leyenda\n",
        "    plt.legend(handles=legend_elements)\n",
        "    plt.show()\n",
        "\n",
        "# Extraer los embeddings\n",
        "numpy_word_vectors = model.embed(torch.arange(vocabulary_size)).detach().numpy()\n",
        "\n",
        "print('Los embeddings de todas las palabras en el vocabulario:')\n",
        "print(numpy_word_vectors)\n",
        "\n",
        "# Graficar los embeddings\n",
        "plot_embeddings_after_pca(numpy_word_vectors)\n"
      ]
    },
    {
      "cell_type": "markdown",
      "metadata": {
        "id": "_QsHVNpNB4A8"
      },
      "source": [
        "## 3.Usando Incrustaciones (Embeddings) Preentrenados\n",
        "Uno de los problemas de entrenar la incrustación de palabras es que se necesita un conjunto de datos que contenga todas las palabras que se quieren incrustar en muchas frases diferentes.\n",
        "Para ello se necesitan conjuntos de datos realmente grandes (la Wikipedia al completo, por ejemplo).\n",
        "Esto es inviable para la mayoría de la gente, ya que requiere grandes cantidades de potencia de cálculo y la capacidad de descargar y almacenar enormes conjuntos de datos.\n",
        "Por no mencionar que, si todo el mundo lo hiciera, se desperdiciaría mucha energía en comparación con la reutilización de redes preentrenadas.\n",
        "En consecuencia, se han puesto a disposición del público incrustaciones preentrenadas creadas por investigadores con acceso a grandes recursos informáticos.\n",
        "Se trata de una forma eficaz de acceder a buenas incrustaciones de palabras ahorrando tiempo y energía.\n",
        "\n",
        "Utilizaremos una de estas redes de incrustación preentrenadas para entrenar una red que realice predicciones sobre el conjunto de datos AG News.\n",
        "\n",
        "El AG News es un conjunto de datos conocido en el procesamiento del lenguaje natural que contiene noticias categorizadas\n"
      ]
    },
    {
      "cell_type": "markdown",
      "source": [
        "**Celda 22: Carga de Embeddings Preentrenados**"
      ],
      "metadata": {
        "id": "p8wDOMoGk1wc"
      }
    },
    {
      "cell_type": "code",
      "execution_count": null,
      "metadata": {
        "id": "5WmU5OYSB4A8"
      },
      "outputs": [],
      "source": [
        "from gensim.models import KeyedVectors\n",
        "import gensim.downloader as api\n",
        "\n",
        "# Cargar embeddings preentrenados\n",
        "wv = api.load('word2vec-google-news-300')\n",
        "\n",
        "print(wv['horse'])"
      ]
    },
    {
      "cell_type": "markdown",
      "metadata": {
        "id": "_NaO-Tx8B4A8"
      },
      "source": [
        "Las incrustaciones de palabras contienen representaciones matemáticas del significado subyacente de las palabras. Como cada incrustación tiene las mismas dimensiones, puede utilizar el álgebra lineal para ver cómo piensa el modelo.\n",
        "Pruebe a jugar con algunas palabras y métodos para investigar cómo ve el modelo el lenguaje."
      ]
    },
    {
      "cell_type": "markdown",
      "source": [
        "**Celda 23: Ejemplos de Similitud y Operaciones con Vectores en Embeddings Preentrenados**\n",
        "\n",
        "Hay un ejemplo famoso de matemáticas de incrustación que dice «rey» - «hombre» + «mujer» = «reina». Este ejemplo, y las matemáticas de incrustación en general, utilizan el hecho de que las incrustaciones no son más que vectores en un espacio vectorial de alta dimensionalidad, y ciertas características del lenguaje tienden a existir a lo largo de ciertos ejes y se agrupan con palabras similares. Así, cabría esperar que rey estuviera presente en el eje «realeza» y en el eje «hombre». Si se elimina hombre y se añade mujer, se obtiene «realeza» + «mujer», es decir, reina. A ver si encuentras otros ejemplos en los que funcionen las matemáticas semánticas, o un ejemplo en el que claramente no funcionen. ¿Tienen sentido los resultados?"
      ],
      "metadata": {
        "id": "m5OUJFYyk7UE"
      }
    },
    {
      "cell_type": "code",
      "execution_count": null,
      "metadata": {
        "id": "1_a_PBR3B4A8"
      },
      "outputs": [],
      "source": [
        "# Ejemplo de similitud entre palabras\n",
        "dist = wv.similarity(\"king\",\"dog\")\n",
        "print(f'Similitud entre \"king\" y \"dog\": {dist:.4f}')\n",
        "\n",
        "# Ejemplo de operaciones con vectores\n",
        "similars = wv.similar_by_vector(wv['king'] - wv['man'] + wv['woman'] - wv['boy'] + wv['girl'])\n",
        "print(similars)"
      ]
    },
    {
      "cell_type": "markdown",
      "metadata": {
        "id": "yfyfLgssB4A8"
      },
      "source": [
        "**Celda 24: Investigación del Vocabulario del Modelo Preentrenado**\n"
      ]
    },
    {
      "cell_type": "code",
      "execution_count": null,
      "metadata": {
        "id": "oZYFWVdvB4A8"
      },
      "outputs": [],
      "source": [
        "# Mostrar algunas palabras del vocabulario\n",
        "nr_of_words = 10\n",
        "for i in range(nr_of_words):\n",
        "    word = wv.index_to_key[i]\n",
        "    index = wv.key_to_index[word]\n",
        "    print(word)"
      ]
    },
    {
      "cell_type": "markdown",
      "metadata": {
        "id": "ODOixh6xB4A9"
      },
      "source": [
        "### Entrenamiento de una FFNN con w2v\n",
        "\n",
        "\n",
        "Queremos entrenar una red usando nuestros embeddings preentrenados. Para ello, utilizamos la tarea y el código de AGnews-prediction with BoW, pero lo modificamos para adaptarlo a nuestras incrustaciones w2v.\n",
        "Primero creamos el conjunto de datos."
      ]
    },
    {
      "cell_type": "markdown",
      "source": [
        "**Celda 25: Implementación de w2vDatasetr**"
      ],
      "metadata": {
        "id": "uPD274tUlOnr"
      }
    },
    {
      "cell_type": "code",
      "execution_count": null,
      "metadata": {
        "id": "jA1yiKyZB4A9"
      },
      "outputs": [],
      "source": [
        "# Creamos nuestro propio conjunto de datos para cargar los textos incrustados w2v\n",
        "class w2vDataset(torch.utils.data.Dataset):\n",
        "    def __init__(self, dataset, embedder):\n",
        "        self.dataset = dataset\n",
        "        self.embedder = embedder\n",
        "\n",
        "    def __getitem__(self, index):\n",
        "        return self.dataset[index][0], self.embedder(self.dataset[index][1], 300)\n",
        "\n",
        "    def __len__(self):\n",
        "        return len(self.dataset)"
      ]
    },
    {
      "cell_type": "markdown",
      "metadata": {
        "id": "syCpLB_MB4A9"
      },
      "source": [
        "Luego creamos un incrustador que codifica cada palabra usando nuestro codificador w2v (wv.get_vector(token)).\n",
        "En comparación con cuando usamos un codificador BoW, ahora nos enfrentamos a dos problemas: palabras fuera del vocabulario (OOV) y longitud variable de las oraciones.\n",
        "\n",
        "**Ejercicio 3.1:** Crea un incrustador w2v usando nuestro modelo w2v preentrenado. <br>\n",
        "**Ejercicio 3.1.1:** Describe tres posibles formas de lidiar con palabras OOV y longitud variable de oraciones. ¿Cuáles son los beneficios y desventajas de los métodos que has descrito? <br>\n",
        "**Ejercicio 3.1.2:** Implementa uno de estos métodos para OOV y longitud de entrada variable para hacer posible el entrenamiento de una FFNN (tus métodos no tienen que ser buenos, solo compilables). <br>\n",
        "**Pista:** <br>\n",
        "for x in range(len(tokens)): <br>\n",
        "    try: # calcula la incrustación word2vec de la palabra. Agrégala a la forma en que almacenas las incrustaciones <br>\n",
        "    except: # maneja (o ignora) oov"
      ]
    },
    {
      "cell_type": "markdown",
      "source": [
        "**Celda 26: Creación de w2v_embedder**"
      ],
      "metadata": {
        "id": "ErEvxGNPlTe_"
      }
    },
    {
      "cell_type": "code",
      "execution_count": null,
      "metadata": {
        "id": "osBMl8_CB4A9"
      },
      "outputs": [],
      "source": [
        "def w2v_embedder(tensor, embedding_length):\n",
        "    '''\n",
        "    Toma un tensor y una longitud de incrustación y devuelve la incrustación w2v de ese tensor\n",
        "    Args:\n",
        "        tensor (torch.Tensor): Un tensor de palabras representadas por su índice en el vocabulario\n",
        "        embedding_length (int): La longitud de la incrustación\n",
        "    Returns (torch.Tensor): Un tensor que contiene la incrustación w2v del tensor de entrada\n",
        "    '''\n",
        "    ## AÑADE CÓDIGO AQUÍ\n",
        "    ...\n",
        "\n",
        "    tensor = tensor.long()\n",
        "    # Inicia tu incrustación\n",
        "    embedding =\n",
        "    # ¿Cómo obtenemos palabras de nuestro tensor?\n",
        "    words =\n",
        "    # ¿Cómo obtenemos tokens de nuestras palabras?\n",
        "    tokens =\n",
        "    # ¿Sobre qué iteramos?\n",
        "    for x in ...:\n",
        "        # ¿Cómo manejamos las palabras fuera del vocabulario (OOV)?\n",
        "        # ¿Cómo incrustamos nuestro token?\n",
        "        # ¿Cómo lo almacenamos?\n",
        "    return embedding"
      ]
    },
    {
      "cell_type": "markdown",
      "metadata": {
        "id": "mhqHuv2sB4A9"
      },
      "source": [
        "Luego diseñamos y entrenamos una red\n",
        "\n",
        "**Ejercicio 3.2:** Construye un modelo que tome las codificaciones w2v del conjunto de datos AG-NEWS como entradas y produzca las clases de AG-NEWS como salidas. Es posible que la red no converja hacia un buen rendimiento dependiendo de tus soluciones para el 3.1. ¿Por qué?\n",
        "\n",
        "**Pista:** Recuerda el clasificador BoW que implementamos y reutiliza esa estructura.  \n",
        "Es posible que el rendimiento sea realmente malo (25% de precisión). Esto está bien y se corregirá más adelante."
      ]
    },
    {
      "cell_type": "markdown",
      "source": [
        "**Celda 27: Creación de la Red Neuronal para FFNN con w2v Embeddings**"
      ],
      "metadata": {
        "id": "84McFaddlZbr"
      }
    },
    {
      "cell_type": "code",
      "source": [
        "w2v_train_data = w2vDataset(ag_train, w2v_embedder)\n",
        "w2v_test_data = w2vDataset(ag_test, w2v_embedder)\n",
        "w2v_trainloader = DataLoader(w2v_train_data, batch_size=1000, shuffle=True)\n",
        "w2v_testloader = DataLoader(w2v_test_data, batch_size=1000, shuffle=False)\n",
        "\n",
        "embedding_length = 300\n"
      ],
      "metadata": {
        "id": "ySEppKtJlvEl"
      },
      "execution_count": null,
      "outputs": []
    },
    {
      "cell_type": "markdown",
      "source": [
        "**Celda 28: Creación de la Red Neuronal para FFNN con w2v Embeddings**"
      ],
      "metadata": {
        "id": "afTdyq3nlvlx"
      }
    },
    {
      "cell_type": "code",
      "source": [
        "## CREA UNA RED NEURONAL PARA ENTRENAR\n",
        "#network = nn.Sequential(\n",
        "#    ... # PISTA: Queremos que nuestra entrada sea del tamaño de nuestras incrustaciones w2v y nuestra salida sean las diferentes clases posibles\n",
        "#)\n"
      ],
      "metadata": {
        "id": "bdrY7FV8l7yX"
      },
      "execution_count": null,
      "outputs": []
    },
    {
      "cell_type": "markdown",
      "source": [
        "**Celda 29: Definición del Optimizador, Función de Pérdida y Ciclo de Entrenamiento para FFNN con w2v**"
      ],
      "metadata": {
        "id": "XP64le8zl4yp"
      }
    },
    {
      "cell_type": "code",
      "execution_count": null,
      "metadata": {
        "id": "2KlVtO5aB4A9"
      },
      "outputs": [],
      "source": [
        "## Inicializar el optimizador, la función de pérdida y el número de épocas\n",
        "#\n",
        "#\n",
        "\n",
        "\n",
        "for epoch in range(epochs):\n",
        "    # Para cada lote de datos (ya que el conjunto de datos es demasiado grande para pasar todos los datos por la red a la vez)\n",
        "    for ...:\n",
        "       ## ESCRIBE EL CÓDIGO DE ENTRENAMIENTO AQUÍ\n",
        "       #...\n",
        "        # Predice para cada texto representado por BoW en el lote a qué clase pertenecen\n",
        "\n",
        "        # Calcula la pérdida de la predicción comparando con la salida esperada\n",
        "\n",
        "        # Retropropaga la pérdida a través de la red para encontrar los gradientes de todos los parámetros\n",
        "\n",
        "        # Actualiza los parámetros a lo largo de sus gradientes\n",
        "\n",
        "        # Borra los valores de gradiente almacenados\n",
        "\n",
        "        # Imprime la época, el lote y la pérdida\n",
        "        print(\n",
        "            f'\\rÉpoca {epoch+1} [{batch_nr+1}/{len(w2v_trainloader)}] - Pérdida: {loss}',\n",
        "            end=''\n",
        "        )"
      ]
    },
    {
      "cell_type": "markdown",
      "metadata": {
        "id": "5Q-I6bbsB4A9"
      },
      "source": [
        "**Ejercicio 3.3:** Calculemos de nuevo la precisión y la matriz de confusión."
      ]
    },
    {
      "cell_type": "markdown",
      "source": [
        "**Celda 30: Evaluación del Rendimiento del Modelo FFNN con w2v**"
      ],
      "metadata": {
        "id": "bPorD5ZimEH_"
      }
    },
    {
      "cell_type": "code",
      "execution_count": null,
      "metadata": {
        "id": "HfJUF0CNB4A9"
      },
      "outputs": [],
      "source": [
        "with torch.no_grad():\n",
        "    classes = [0, 1, 2, 3]\n",
        "    correct = 0\n",
        "    total = 0\n",
        "    y_pred = []\n",
        "    y_true = []\n",
        "    # Para cada lote de datos de prueba (ya que el conjunto de datos es demasiado grande para pasar todos los datos por la red a la vez)\n",
        "    # Calcula la precisión, la exactitud y la exhaustividad\n",
        "    for batch_nr, (labels, data) in enumerate(w2v_testloader):\n",
        "        ## ESCRIBE EL CÓDIGO DE PRUEBA AQUÍ\n",
        "        ...\n",
        "\n",
        "    print(f'La precisión de la red es {str(100*correct/total)[:4]}%.')"
      ]
    },
    {
      "cell_type": "markdown",
      "source": [
        "**Celda 31: Plot de la Matriz de Confusión para FFNN con w2v**"
      ],
      "metadata": {
        "id": "pMOiUrycmIwW"
      }
    },
    {
      "cell_type": "code",
      "execution_count": null,
      "metadata": {
        "id": "majlKMunB4A-"
      },
      "outputs": [],
      "source": [
        "cnf_matrix = confusion_matrix(y_true, y_pred,labels=[0, 1, 2, 3])\n",
        "numpy.set_printoptions(precision=2)\n",
        "\n",
        "# Graficar matriz de confusión sin normalizar\n",
        "plt.figure()\n",
        "plot_confusion_matrix(cnf_matrix, classes=['Mundo', 'Deportes', 'Negocios', 'Ciencia/Tecnología'],\n",
        "                      title='Matriz de confusión, sin normalización')"
      ]
    },
    {
      "cell_type": "markdown",
      "metadata": {
        "id": "bJeRQk2YB4A-"
      },
      "source": [
        "Investiguemos también cómo las incrustaciones preentrenadas separan los animales, las acciones y los muebles de nuestro corpus inicial. También puede insertar aquí cualquier palabra del corpus word2vec (wv.vocab) y ver cómo se proyectan en un espacio 2D utilizando PCA."
      ]
    },
    {
      "cell_type": "markdown",
      "source": [
        "**Celda 32: Visualización de las Incrustaciones Preentrenadas usando PCA**"
      ],
      "metadata": {
        "id": "SysKS75KmwNB"
      }
    },
    {
      "cell_type": "code",
      "execution_count": null,
      "metadata": {
        "id": "s5oQaYbFB4A-"
      },
      "outputs": [],
      "source": [
        "#%matplotlib inline\n",
        "from sklearn.decomposition import PCA\n",
        "from matplotlib import pyplot as plt\n",
        "\n",
        "numpy_word_vectors = numpy.zeros([18,300])\n",
        "\n",
        "category_colors = {'animals' : 'green',\n",
        "                   'actions' : 'blue',\n",
        "                   'furniture' : 'yellow'}\n",
        "\n",
        "colors = []\n",
        "for i in range(vocabulary_size):\n",
        "    colors.append('red')\n",
        "\n",
        "for word in animal_vocab.index2token:\n",
        "    index = animal_vocab.get_index(word)\n",
        "    numpy_word_vectors[index,:] = wv[word]\n",
        "    if word in animals:\n",
        "        colors[index] = category_colors['animals']\n",
        "    elif word in actions:\n",
        "        colors[index] = category_colors['actions']\n",
        "    elif word in furniture:\n",
        "        colors[index] = category_colors['furniture']\n",
        "\n",
        "# Grafica las incrustaciones usando PCA (no necesitas entenderlo)\n",
        "def plot_embeddings_after_pca(vectors):\n",
        "        \"\"\"\n",
        "        Realiza PCA y grafica los 2 componentes resultantes en los ejes X e Y\n",
        "        Args:\n",
        "          embedding_weights - el conjunto de vectores a\n",
        "        \"\"\"\n",
        "        pca = PCA(n_components=2)\n",
        "        vectors_pca = pca.fit_transform(vectors)\n",
        "        plt.figure(figsize=(20,10))\n",
        "\n",
        "        # No dibujamos el primer elemento, que es el token 'Fuera-de-Vocabulario'\n",
        "        plt.scatter(vectors_pca[:,0], vectors_pca[:,1], c=colors, s=100, alpha=0.3);\n",
        "        plt.title('Incrustaciones después de PCA')\n",
        "        legend_elements = [\n",
        "                    plt.Line2D([0], [0], marker='o', color=category_colors['animals'], label='Animales'),\n",
        "                    plt.Line2D([0], [0], marker='o', color=category_colors['actions'], label='Acciones'),\n",
        "                    plt.Line2D([0], [0], marker='o', color=category_colors['furniture'], label='Muebles'),\n",
        "                    plt.Line2D([0], [0], marker='o', color='red', label='Otros'),\n",
        "                  ]\n",
        "\n",
        "        # Crea la figura\n",
        "        plt.legend(handles=legend_elements);\n",
        "\n",
        "# Extrayendo las incrustaciones para cada palabra en el vocabulario, separándolas de PyTorch y convirtiéndolas en numpy\n",
        "\n",
        "\n",
        "print('Las incrustaciones de todas las palabras en el vocabulario')\n",
        "print(numpy_word_vectors)\n",
        "\n",
        "# Muestra los ejes más significativos de los vectores de palabras usando PCA\n",
        "plot_embeddings_after_pca(numpy_word_vectors)"
      ]
    },
    {
      "cell_type": "markdown",
      "metadata": {
        "id": "-66Ci5sSB4A-"
      },
      "source": [
        "Vemos que, a pesar de abarcar 300 millones de palabras, los animales, las acciones y los muebles están separados por el modelo, siendo los animales los más repartidos de los tres."
      ]
    },
    {
      "cell_type": "markdown",
      "metadata": {
        "id": "nocBNOkYB4A-"
      },
      "source": [
        "## 4. Redes Neuronales Recurrentes\n",
        "\n",
        "Como tarea final, usemos incrustaciones donde realmente importan, en redes neuronales recurrentes (RNNs) (o Transformers, pero ese es un tema para otro curso). Las RNNs se cubren en la primera lección de ANN3, pero considera esto como un adelanto donde aún no necesitas entender el funcionamiento interno de la caja negra.\n",
        "\n",
        "<a title=\"fdeloche, CC BY-SA 4.0 &lt;https://creativecommons.org/licenses/by-sa/4.0&gt;, via Wikimedia Commons\" href=\"https://commons.wikimedia.org/wiki/File:Recurrent_neural_network_unfold.svg\"><img width=\"512\" alt=\"Recurrent neural network unfold\" src=\"https://upload.wikimedia.org/wikipedia/commons/thumb/b/b5/Recurrent_neural_network_unfold.svg/512px-Recurrent_neural_network_unfold.svg.png\"></a>\n",
        "\n",
        "Las RNNs tienen un beneficio importante en que pueden usar secuencias de entrada de cualquier longitud en la misma red. Cuando usamos BoW, nuestras codificaciones se colapsaron a las mismas dimensiones, pero con w2v nos enfrentamos al desafío de tener dimensiones de entrada variables. En las RNNs, nuestra entrada se alimenta secuencialmente a la red junto con la salida anterior de la red. Después de que nuestro primer token de entrada se transforma en una predicción, esta predicción se alimenta a la misma red junto con el siguiente token, hasta que se han visto todos los tokens. Así, independientemente de si nuestra secuencia de entrada es una palabra o 100 palabras, el tamaño de la red sigue siendo el mismo (pero para 100 palabras tendremos que hacer retropropagación 100 veces a través de la red para entrenarla. ¿Qué problemas podría causar esto?).\n",
        "\n",
        "Ahora implementaremos otro incrustador w2v, esta vez manteniendo la estructura secuencial de nuestros datos. Pero primero, hagamos una tercera clase de conjunto de datos."
      ]
    },
    {
      "cell_type": "markdown",
      "source": [
        "**Celda 33: Implementación de rnnDataset**"
      ],
      "metadata": {
        "id": "qze6OtfNmTje"
      }
    },
    {
      "cell_type": "code",
      "execution_count": null,
      "metadata": {
        "id": "KPKLyyGUB4A-"
      },
      "outputs": [],
      "source": [
        "# Creamos nuestro propio conjunto de datos para cargar los textos incrustados con w2v\n",
        "class rnnDataset(torch.utils.data.Dataset):\n",
        "    def __init__(self, dataset, embedder):\n",
        "        self.dataset = dataset\n",
        "        self.embedder = embedder\n",
        "\n",
        "    def __getitem__(self, index):\n",
        "        return self.dataset[index][0], self.embedder(self.dataset[index][1], 300)\n",
        "\n",
        "    def __len__(self):\n",
        "        return len(self.dataset)"
      ]
    },
    {
      "cell_type": "markdown",
      "metadata": {
        "id": "2MC_XAcjB4A-"
      },
      "source": [
        "**Ejercicio 4.1:** Implementa un incrustador para rnnDataset que tome un tensor de entrada, lo transforme de palabras->tokens->incrustaciones, y luego almacene las incrustaciones manteniendo la integridad estructural de las oraciones originales. <br>\n",
        "**Pista:** El incrustador debería ser bastante similar al incrustador w2v. Considera usar numpy.shape() para investigar la forma de tu conjunto de datos y recuerda que puedes pasar de lista a numpy.array con numpy.asarray(). <br>\n",
        "No necesariamente necesitas la longitud de incrustación ya que creamos secuencias de incrustaciones"
      ]
    },
    {
      "cell_type": "markdown",
      "source": [
        "****Celda 34: Implementación de rnn_embedder**"
      ],
      "metadata": {
        "id": "jCUi8b_2mWoj"
      }
    },
    {
      "cell_type": "code",
      "execution_count": null,
      "metadata": {
        "id": "r1o9J75ZB4A-"
      },
      "outputs": [],
      "source": [
        "def rnn_embedder(tensor, embedding_length):\n",
        "    '''\n",
        "    Toma un tensor y una longitud de incrustación y devuelve una secuencia de las incrustaciones w2v de cada token en ese tensor\n",
        "    Args:\n",
        "        tensor (torch.Tensor): Un tensor de palabras representadas por su índice en el vocabulario\n",
        "        embedding_length (int): La longitud de la incrustación\n",
        "    Returns (torch.Tensor): Un tensor que contiene las incrustaciones w2v del tensor de entrada\n",
        "    '''\n",
        "\n",
        "    ## AÑADE CÓDIGO AQUÍ\n",
        "    ...\n",
        "\n",
        "    tensor = tensor.long()\n",
        "    # Inicia tu incrustación\n",
        "    embedding =\n",
        "    # ¿Cómo obtenemos palabras de nuestro tensor?\n",
        "    words =\n",
        "    # ¿Cómo obtenemos tokens de nuestras palabras?\n",
        "    tokens =\n",
        "    # ¿Sobre qué iteramos?\n",
        "    for x in ...:\n",
        "        # ¿Cómo manejamos las palabras fuera del vocabulario (OOV)?\n",
        "        # ¿Cómo incrustamos nuestro token?\n",
        "        # ¿Cómo lo almacenamos secuencialmente?\n",
        "    return embedding"
      ]
    },
    {
      "cell_type": "markdown",
      "metadata": {
        "id": "TIr6yNsIB4A-"
      },
      "source": [
        "Ahora diseñaremos una red LSTM. Al implementar modelos de aprendizaje automático, a menudo hay que consultar la documentación original. Por lo tanto, vayamos a https://pytorch.org/docs/stable/generated/torch.nn.LSTM.html para estudiar los tamaños de entrada, ocultos y de salida de la clase torch.nn.LSTM.\n",
        "\n",
        "**Ejercicio 4.2:** Completa la implementación de nuestra clase de red LSTM. <br>\n",
        "**Pista:** No olvides el comando batch_first=True cuando mires primero el tamaño del lote o la longitud de la secuencia. <br>\n",
        "Define el init y el forward"
      ]
    },
    {
      "cell_type": "markdown",
      "source": [
        "**Celda 36: Implementación de la Clase LSTM1**"
      ],
      "metadata": {
        "id": "BE0NBeoBnKzq"
      }
    },
    {
      "cell_type": "code",
      "execution_count": null,
      "metadata": {
        "id": "TuFOwQpNB4A_"
      },
      "outputs": [],
      "source": [
        "from torch.autograd import Variable\n",
        "\n",
        "class LSTM1(nn.Module):\n",
        "    def __init__(self, num_classes, input_size, hidden_size, num_layers, seq_length):\n",
        "        super(LSTM1, self).__init__()\n",
        "        self.num_classes = num_classes #número de clases\n",
        "        self.num_layers = num_layers #número de capas\n",
        "        self.input_size = input_size #tamaño de entrada\n",
        "        self.hidden_size = hidden_size #estado oculto\n",
        "        self.seq_length = seq_length #longitud de secuencia\n",
        "\n",
        "        ## TAREA: Inserta las dimensiones correctas para nuestras capas LSTM y FC\n",
        "        self.lstm = nn.LSTM(...) # Capa LSTM\n",
        "        self.fc_1 =  nn.Linear(...) # Primera capa FC\n",
        "        self.fc = nn.Linear(...) # Capa FC final\n",
        "\n",
        "        self.relu = nn.ReLU()\n",
        "\n",
        "    def forward(self,x):\n",
        "        h_0 = Variable(torch.zeros(...)) #estado oculto\n",
        "        c_0 = Variable(torch.zeros()) #estado interno\n",
        "\n",
        "        # Propagar entrada a través de LSTM\n",
        "        output, (hn, cn) = self.lstm(x, (h_0, c_0)) #lstm con entrada, estado oculto y estado interno\n",
        "        hn = hn.view(-1, self.hidden_size) #remodelando los datos para la siguiente capa Densa\n",
        "        out = self.relu(hn)\n",
        "        out = self.fc_1(out) #primera Densa\n",
        "        out = self.relu(out) #relu\n",
        "        out = self.fc(out) #Salida Final\n",
        "        return out"
      ]
    },
    {
      "cell_type": "markdown",
      "source": [
        "**Celda 37: Inicialización de la Red LSTM y Ciclo de Entrenamiento**"
      ],
      "metadata": {
        "id": "0ZmdtOKongAP"
      }
    },
    {
      "cell_type": "code",
      "execution_count": null,
      "metadata": {
        "id": "W2FRYHdpB4A_"
      },
      "outputs": [],
      "source": [
        "num_epochs = 2 #2 épocas\n",
        "learning_rate = 0.001 #0.001 tasa de aprendizaje\n",
        "\n",
        "\n",
        "input_size = ... #número de características\n",
        "hidden_size = ... #número de características en el estado oculto\n",
        "num_layers = ... #número de capas lstm apiladas\n",
        "sequence_length = ...\n",
        "num_classes = ...\n",
        "device=torch.device('cpu')\n",
        "\n",
        "lstm1 = LSTM1(num_classes=num_classes, input_size=input_size, hidden_size=hidden_size,\n",
        "              num_layers=num_layers, seq_length=sequence_length) #nuestra clase lstm\n",
        "\n",
        "optimizer = torch.optim.Adam(lstm1.parameters(), lr=learning_rate)"
      ]
    },
    {
      "cell_type": "markdown",
      "metadata": {
        "id": "t76nS1_5B4A_"
      },
      "source": [
        "Usando nuestra clase LSTM y el cargador de datos RNN, entrenemos nuestra red y veamos qué tan bien funciona.\n",
        "\n",
        "**Ejercicio 4.3:** Entrena la red para alcanzar una precisión de más del 90%. <br>\n",
        "**Pista:** Considera empezar con un tamaño de lote = 1 o de lo contrario los datos tendrán múltiples longitudes de secuencia. <br>\n",
        "Usa torch.from_numpy para convertir un array de numpy a torch"
      ]
    },
    {
      "cell_type": "markdown",
      "source": [
        "**Celda 38: Creación de DataLoaders para RNN**"
      ],
      "metadata": {
        "id": "Cp3GE-45n5S5"
      }
    },
    {
      "cell_type": "code",
      "execution_count": null,
      "metadata": {
        "id": "eT-ss6xPB4A_"
      },
      "outputs": [],
      "source": [
        "rnn_train_data = rnnDataset(ag_train, rnn_embedder)\n",
        "rnn_test_data = rnnDataset(ag_test, rnn_embedder)\n",
        "rnn_trainloader = DataLoader(rnn_train_data, batch_size=1, shuffle=True)\n",
        "rnn_testloader = DataLoader(rnn_test_data, batch_size=1, shuffle=False)"
      ]
    },
    {
      "cell_type": "markdown",
      "metadata": {
        "id": "94FIhj6PB4A_"
      },
      "source": [
        "Calculemos una vez más la precisión y la matriz de confusión.\n",
        "\n",
        "**Ejercicio 4.4:** Calcula la precisión y la matriz de confusión. ¿Qué tan bien funciona tu red? ¿Qué podrías hacer para mejorar aún más la precisión (no tienes que implementarlo)?"
      ]
    },
    {
      "cell_type": "markdown",
      "source": [
        "**Celda 39: Evaluación del Modelo LSTM1**"
      ],
      "metadata": {
        "id": "jGmL1_C3oomG"
      }
    },
    {
      "cell_type": "code",
      "execution_count": null,
      "metadata": {
        "id": "D0xdj81rB4A_"
      },
      "outputs": [],
      "source": [
        "with torch.no_grad():\n",
        "    classes = [0, 1, 2, 3]\n",
        "    correct = 0\n",
        "    total = 0\n",
        "    y_pred = []\n",
        "    y_true = []\n",
        "    # Para cada lote de datos de prueba (ya que el conjunto de datos es demasiado grande para pasar todos los datos por la red a la vez)\n",
        "    # Calcula la precisión, la exactitud y la exhaustividad\n",
        "    for batch_nr, (labels, data) in enumerate(rnn_testloader):\n",
        "        ## ESCRIBE EL CÓDIGO DE PRUEBA AQUÍ\n",
        "        ...\n",
        "\n",
        "\n",
        "    print(f'La precisión de la red es {str(100*correct/total)[:4]}%.')"
      ]
    },
    {
      "cell_type": "markdown",
      "source": [
        "**Celda 40: Plot de la Matriz de Confusión para LSTM1**"
      ],
      "metadata": {
        "id": "mK5L-rPooytx"
      }
    },
    {
      "cell_type": "code",
      "execution_count": null,
      "metadata": {
        "id": "gLSvwoRfB4A_"
      },
      "outputs": [],
      "source": [
        "cnf_matrix = confusion_matrix(y_true, y_pred,labels=[0, 1, 2, 3])\n",
        "numpy.set_printoptions(precision=2)\n",
        "\n",
        "# Graficar matriz de confusión sin normalizar\n",
        "plt.figure()\n",
        "plot_confusion_matrix(cnf_matrix, classes=['Mundo', 'Deportes', 'Negocios', 'Ciencia/Tec'],\n",
        "                      title='Matriz de confusión, sin normalización')"
      ]
    },
    {
      "cell_type": "markdown",
      "metadata": {
        "id": "NKuGuLdLB4A_"
      },
      "source": [
        "Has llegado al final del ejercicio 1. Buen trabajo."
      ]
    },
    {
      "cell_type": "markdown",
      "source": [
        "## **Ejercicio 2: Crea y utiliza una arquitectura GPT (Resuelto no hace falta modificar nada)**"
      ],
      "metadata": {
        "id": "mjL3sW5rZYTG"
      }
    },
    {
      "cell_type": "markdown",
      "source": [
        "En este ejercicio, exploraremos cómo las arquitecturas basadas en Transformers, específicamente GPT-2, han revolucionado el campo del Procesamiento de Lenguaje Natural (NLP). A diferencia de las redes neuronales recurrentes (RNNs) que vimos en el Ejercicio 1, los Transformers utilizan mecanismos de atención que permiten procesar secuencias completas de manera paralela, mejorando significativamente el rendimiento en tareas de generación y comprensión de texto.\n",
        "\n",
        "## Objetivos del Ejercicio:\n",
        "- Comprender los conceptos básicos de los Transformers y GPT-2.\n",
        "- Implementar una versión simplificada de GPT-2 utilizando PyTorch.\n",
        "- Entrenar el modelo en un conjunto de datos pequeño para generar texto.\n",
        "- Comparar los resultados obtenidos con los modelos anteriores."
      ],
      "metadata": {
        "id": "WHcu61qObiTF"
      }
    },
    {
      "cell_type": "markdown",
      "source": [
        "## Sección 2.1: Fundamentos de Transformers y GPT-2 (Resuelto, no hace falta cambiar nada)\n",
        "\n",
        "Antes de sumergirnos en la implementación, es esencial entender los componentes clave de los Transformers y cómo GPT-2 los utiliza para generar texto de alta calidad.\n",
        "\n",
        "- **Transformers**: Introducidos por Vaswani et al. en 2017, los Transformers se basan en mecanismos de atención que permiten al modelo enfocarse en diferentes partes de la secuencia de entrada al mismo tiempo, eliminando la necesidad de procesar datos de forma secuencial como en las RNNs.\n",
        "\n",
        "- **GPT-2 (Generative Pre-trained Transformer 2)**: Es una arquitectura de modelo de lenguaje basada en Transformers que ha sido preentrenada en grandes cantidades de texto. GPT-2 puede generar texto coherente y contextualmente relevante a partir de una entrada dada."
      ],
      "metadata": {
        "id": "CZngRRoCbmcr"
      }
    },
    {
      "cell_type": "markdown",
      "source": [
        "**Celda 0: Preparación de los Datos**"
      ],
      "metadata": {
        "id": "MYC6Yk8YrO13"
      }
    },
    {
      "cell_type": "markdown",
      "source": [
        "### Preparación de los Datos\n",
        "\n",
        "Para entrenar nuestro modelo, utilizaremos el mismo conjunto de datos \"Cat on the mat\" que vimos en el Ejercicio 1.\n"
      ],
      "metadata": {
        "id": "_TFrWF2Ub2W1"
      }
    },
    {
      "cell_type": "code",
      "source": [
        "animals = ['cat', 'dog', 'goat', 'elephant', 'eagle', 'zebra', 'rhino', 'hippo']\n",
        "actions = ['sat', 'stood', 'jumped', 'slept']\n",
        "furniture = ['mat', 'rug', 'sofa', 'bed']\n",
        "\n",
        "# Generar el corpus\n",
        "animal_corpus = [f'the {x[0]} {x[1]} in the {x[2]}' for x in itertools.product(animals, actions, furniture)]\n",
        "\n",
        "# Funciones básicas\n",
        "def simple_tokenizer(text):\n",
        "    return text.split(' ')\n",
        "\n",
        "for oracion in animal_corpus[:10]:\n",
        "  print(oracion)"
      ],
      "metadata": {
        "colab": {
          "base_uri": "https://localhost:8080/"
        },
        "id": "9zZo261dYBNf",
        "outputId": "c0c13fda-b9e2-44f4-f91f-3b5790f4b2a9"
      },
      "execution_count": null,
      "outputs": [
        {
          "output_type": "stream",
          "name": "stdout",
          "text": [
            "the cat sat in the mat\n",
            "the cat sat in the rug\n",
            "the cat sat in the sofa\n",
            "the cat sat in the bed\n",
            "the cat stood in the mat\n",
            "the cat stood in the rug\n",
            "the cat stood in the sofa\n",
            "the cat stood in the bed\n",
            "the cat jumped in the mat\n",
            "the cat jumped in the rug\n"
          ]
        }
      ]
    },
    {
      "cell_type": "markdown",
      "source": [
        "Explicación:\n",
        "\n",
        "- **animal_corpus**: Genera todas las combinaciones posibles de animales, acciones y muebles en oraciones.\n",
        "\n",
        "- **SimpleVocabulary** y **encode**: Reutiliza las clases y funciones definidas en el Ejercicio 1 para crear el vocabulario y codificar las oraciones.\n",
        "\n",
        "- **División de datos**: Separa el 90% de los datos para entrenamiento y el 10% restante para validación."
      ],
      "metadata": {
        "id": "-PjUtPPod_NW"
      }
    },
    {
      "cell_type": "markdown",
      "source": [
        "**Celda 1: Definición de Tokens Especiales y Extensión del Vocabulario**"
      ],
      "metadata": {
        "id": "P4NJ6OWbqurk"
      }
    },
    {
      "cell_type": "code",
      "source": [
        "# CELDA 2: Definición del Vocabulario\n",
        "# Definición de Tokens Especiales\n",
        "PAD_TOKEN = '<pad>'\n",
        "UNK_TOKEN = '<unk>'\n",
        "\n",
        "class SimpleVocabulary():\n",
        "    def __init__(self, corpus):\n",
        "        if isinstance(corpus, list):\n",
        "            corpus = ' '.join(corpus)\n",
        "\n",
        "        # Obtener todas las palabras únicas del corpus\n",
        "        all_words = set(word.lower() for word in simple_tokenizer(corpus))\n",
        "\n",
        "        self.token2index = {}\n",
        "        self.index2token = []\n",
        "\n",
        "        # Agregar tokens especiales primero\n",
        "        special_tokens = ['<pad>', '<unk>']\n",
        "        for token in special_tokens:\n",
        "            self.token2index[token] = len(self.token2index)\n",
        "            self.index2token.append(token)\n",
        "\n",
        "        # Agregar el resto del vocabulario\n",
        "        for word in sorted(all_words):  # Ordenar para consistencia\n",
        "            if word not in self.token2index:\n",
        "                self.token2index[word] = len(self.token2index)\n",
        "                self.index2token.append(word)\n",
        "\n",
        "    def get_index(self, token):\n",
        "        token = str(token).lower()\n",
        "        return self.token2index.get(token, self.token2index['<unk>'])\n",
        "\n",
        "    def get_token(self, index):\n",
        "        if 0 <= index < len(self.index2token):\n",
        "            return self.index2token[index]\n",
        "        return '<unk>'\n",
        "\n",
        "    def __len__(self):\n",
        "        return len(self.index2token)\n",
        "\n",
        "def index_sequence(sequence, vocabulary):\n",
        "    return [vocabulary.get_index(token) for token in sequence]"
      ],
      "metadata": {
        "id": "XM1LLdqFcai5"
      },
      "execution_count": null,
      "outputs": []
    },
    {
      "cell_type": "code",
      "source": [
        "animal_vocab = SimpleVocabulary(animal_corpus)"
      ],
      "metadata": {
        "id": "vri2B9JLq9cu"
      },
      "execution_count": null,
      "outputs": []
    },
    {
      "cell_type": "markdown",
      "source": [
        "**Celda 2: Definición de Hiperparámetros**"
      ],
      "metadata": {
        "id": "_p3uS9uTrF0J"
      }
    },
    {
      "cell_type": "code",
      "source": [
        "batch_size = 32\n",
        "block_size = 8\n",
        "max_iters = 400\n",
        "eval_interval = 100\n",
        "learning_rate = 3e-4\n",
        "device = 'cuda' if torch.cuda.is_available() else 'cpu'\n",
        "eval_iters = 100\n",
        "n_embd = 128\n",
        "n_head = 4\n",
        "n_layer = 4\n",
        "dropout = 0.1\n",
        "vocab_size = len(animal_vocab)"
      ],
      "metadata": {
        "id": "TPTkPft4c9I6"
      },
      "execution_count": null,
      "outputs": []
    },
    {
      "cell_type": "markdown",
      "source": [
        "**Celda 3: Definición de los Componentes del Transformer**"
      ],
      "metadata": {
        "id": "Ut0oQ-qYdECh"
      }
    },
    {
      "cell_type": "code",
      "source": [
        "import torch\n",
        "import torch.nn as nn\n",
        "from torch.nn import functional as F\n",
        "import math\n",
        "\n",
        "# Definición de la Cabeza de Atención\n",
        "class Head(nn.Module):\n",
        "    \"\"\"Una sola cabeza de auto-atención\"\"\"\n",
        "    def __init__(self, head_size):\n",
        "        super().__init__()\n",
        "        self.key = nn.Linear(n_embd, head_size, bias=False)\n",
        "        self.query = nn.Linear(n_embd, head_size, bias=False)\n",
        "        self.value = nn.Linear(n_embd, head_size, bias=False)\n",
        "        self.register_buffer('tril', torch.tril(torch.ones(block_size, block_size)))\n",
        "\n",
        "        self.dropout = nn.Dropout(dropout)\n",
        "\n",
        "    def forward(self, x):\n",
        "        B, T, C = x.shape\n",
        "        k = self.key(x)   # (B, T, hs)\n",
        "        q = self.query(x) # (B, T, hs)\n",
        "        wei = q @ k.transpose(-2, -1) * C**-0.5  # (B, T, T)\n",
        "        wei = wei.masked_fill(self.tril[:T, :T] == 0, float('-inf'))\n",
        "        wei = F.softmax(wei, dim=-1)\n",
        "        wei = self.dropout(wei)\n",
        "        v = self.value(x)  # (B, T, hs)\n",
        "        out = wei @ v      # (B, T, hs)\n",
        "        return out\n",
        "\n",
        "# Definición de la Múltiple Cabeza de Atención\n",
        "class MultiHeadAttention(nn.Module):\n",
        "    \"\"\"Múltiples cabezas de auto-atención en paralelo\"\"\"\n",
        "    def __init__(self, num_heads, head_size):\n",
        "        super().__init__()\n",
        "        self.heads = nn.ModuleList([Head(head_size) for _ in range(num_heads)])\n",
        "        self.proj = nn.Linear(head_size * num_heads, n_embd)\n",
        "        self.dropout = nn.Dropout(dropout)\n",
        "\n",
        "    def forward(self, x):\n",
        "        out = torch.cat([h(x) for h in self.heads], dim=-1)\n",
        "        out = self.dropout(self.proj(out))\n",
        "        return out\n",
        "\n",
        "# Definición de la Red FeedForward\n",
        "class FeedForward(nn.Module):\n",
        "    \"\"\"Una simple capa lineal seguida de una no linealidad\"\"\"\n",
        "    def __init__(self, n_embd):\n",
        "        super().__init__()\n",
        "        self.net = nn.Sequential(\n",
        "            nn.Linear(n_embd, 4 * n_embd),\n",
        "            nn.ReLU(),\n",
        "            nn.Linear(4 * n_embd, n_embd),\n",
        "            nn.Dropout(dropout),\n",
        "        )\n",
        "\n",
        "    def forward(self, x):\n",
        "        return self.net(x)\n",
        "\n",
        "# Definición del Bloque Transformer\n",
        "class Block(nn.Module):\n",
        "    \"\"\"Bloque Transformer: comunicación seguida de computación\"\"\"\n",
        "    def __init__(self, n_embd, n_head):\n",
        "        super().__init__()\n",
        "        head_size = n_embd // n_head\n",
        "        self.sa = MultiHeadAttention(n_head, head_size)\n",
        "        self.ffwd = FeedForward(n_embd)\n",
        "        self.ln1 = nn.LayerNorm(n_embd)\n",
        "        self.ln2 = nn.LayerNorm(n_embd)\n",
        "\n",
        "    def forward(self, x):\n",
        "        x = x + self.sa(self.ln1(x))\n",
        "        x = x + self.ffwd(self.ln2(x))\n",
        "        return x\n"
      ],
      "metadata": {
        "id": "M6eK1VM9dCtQ"
      },
      "execution_count": null,
      "outputs": []
    },
    {
      "cell_type": "markdown",
      "source": [
        "### Explicación de los componentes del Transformer:\n",
        "\n",
        "- **Head**: Implementa una sola cabeza de atención, calculando las claves, consultas y valores, y aplicando la máscara triangular inferior para evitar mirar hacia el futuro.\n",
        "\n",
        "- **MultiHeadAttention**: Combina múltiples cabezas de atención en paralelo y proyecta los resultados concatenados de vuelta al espacio de embeddings.\n",
        "\n",
        "- **FeedForward**: Una red neuronal simple con una capa oculta y activación ReLU, seguida de una capa de salida y dropout.\n",
        "\n",
        "- **Block**: Un bloque Transformer que combina la atención multi-cabeza y la red feedforward, cada una con normalización de capa y conexiones residuales."
      ],
      "metadata": {
        "id": "HkGu814MdLv-"
      }
    },
    {
      "cell_type": "markdown",
      "source": [
        "**Celda 4: Definición del Modelo GPTSimplificado**"
      ],
      "metadata": {
        "id": "TbzLyPIDdYnT"
      }
    },
    {
      "cell_type": "code",
      "source": [
        "class GPTSimplificado(nn.Module):\n",
        "    def __init__(self, vocab_size):\n",
        "        super().__init__()\n",
        "        self.token_embedding_table = nn.Embedding(vocab_size, n_embd)\n",
        "        self.position_embedding_table = nn.Embedding(block_size, n_embd)\n",
        "        self.blocks = nn.Sequential(*[Block(n_embd, n_head=n_head) for _ in range(n_layer)])\n",
        "        self.ln_f = nn.LayerNorm(n_embd)\n",
        "        self.lm_head = nn.Linear(n_embd, vocab_size)\n",
        "\n",
        "    def forward(self, idx, targets=None):\n",
        "        B, T = idx.shape\n",
        "        tok_emb = self.token_embedding_table(idx)  # (B, T, C)\n",
        "        pos_emb = self.position_embedding_table(torch.arange(T, device=device))  # (T, C)\n",
        "        x = tok_emb + pos_emb  # (B, T, C)\n",
        "        x = self.blocks(x)  # (B, T, C)\n",
        "        x = self.ln_f(x)  # (B, T, C)\n",
        "        logits = self.lm_head(x)  # (B, T, vocab_size)\n",
        "\n",
        "        if targets is None:\n",
        "            loss = None\n",
        "        else:\n",
        "            B, T, C = logits.shape\n",
        "            logits = logits.view(B*T, C)\n",
        "            targets = targets.view(B*T)\n",
        "            loss = F.cross_entropy(logits, targets)\n",
        "\n",
        "        return logits, loss\n",
        "\n",
        "    def generate(self, idx, max_new_tokens):\n",
        "        for _ in range(max_new_tokens):\n",
        "            idx_cond = idx[:, -block_size:]  # Mantener solo los últimos block_size tokens\n",
        "            logits, loss = self(idx_cond)\n",
        "            logits = logits[:, -1, :]  # (B, C)\n",
        "            probs = F.softmax(logits, dim=-1)  # (B, C)\n",
        "            idx_next = torch.multinomial(probs, num_samples=1)  # (B, 1)\n",
        "            idx = torch.cat((idx, idx_next), dim=1)  # (B, T+1)\n",
        "        return idx\n"
      ],
      "metadata": {
        "id": "mn5e1z9Cdf2j"
      },
      "execution_count": null,
      "outputs": []
    },
    {
      "cell_type": "markdown",
      "source": [
        "### Explicación del modelo GPTSimplificado:\n",
        "\n",
        "- **token_embedding_table** y **position_embedding_table**: Convierte los índices de tokens y posiciones en vectores de embeddings.\n",
        "\n",
        "- **blocks**: Secuencia de bloques Transformer definidos previamente.\n",
        "\n",
        "- **ln_f** y **lm_head**: Normalización final y capa lineal para predecir los logits de los tokens siguientes.\n",
        "\n",
        "- **forward**: Pasa los índices de entrada a través de las capas del modelo y calcula la pérdida si se proporcionan objetivos.\n",
        "\n",
        "- **generate**: Genera nuevos tokens secuencialmente basándose en los tokens generados previamente."
      ],
      "metadata": {
        "id": "iat_tRbXbzoz"
      }
    },
    {
      "cell_type": "markdown",
      "source": [
        "**Celda 5: Función para realizar Padding en las Secuencias**"
      ],
      "metadata": {
        "id": "EjaJ-y6wreUP"
      }
    },
    {
      "cell_type": "code",
      "source": [
        "encoded_corpus = [index_sequence(text.split(), animal_vocab) for text in animal_corpus]\n",
        "\n",
        "def pad_sequences(sequences, max_length, padding_value=animal_vocab.get_index('<pad>')):\n",
        "    padded_sequences = []\n",
        "    for seq in sequences:\n",
        "        if len(seq) < max_length:\n",
        "            padded_seq = seq + [padding_value] * (max_length - len(seq))\n",
        "        else:\n",
        "            padded_seq = seq[:max_length]\n",
        "        padded_sequences.append(padded_seq)\n",
        "    return padded_sequences\n",
        "\n",
        "# Determinar la Longitud Máxima de las Secuencias\n",
        "max_length = max(block_size, max(len(seq) for seq in encoded_corpus))\n",
        "print(f'Longitud máxima de las secuencias: {max_length}')\n",
        "\n",
        "# Realizar Padding en las Secuencias\n",
        "padded_encoded_corpus = pad_sequences(encoded_corpus, max_length)\n",
        "\n",
        "# Convertir a Tensor\n",
        "data = torch.tensor(padded_encoded_corpus, dtype=torch.long)\n",
        "\n",
        "# División en Entrenamiento y Validación\n",
        "n = int(0.9 * len(data))\n",
        "train_data = data[:n]\n",
        "val_data = data[n:]"
      ],
      "metadata": {
        "colab": {
          "base_uri": "https://localhost:8080/"
        },
        "id": "mkBVF-FtAyh2",
        "outputId": "7efce257-5e0f-4fa8-c0ad-cbba03df108f"
      },
      "execution_count": null,
      "outputs": [
        {
          "output_type": "stream",
          "name": "stdout",
          "text": [
            "Longitud máxima de las secuencias: 8\n"
          ]
        }
      ]
    },
    {
      "cell_type": "markdown",
      "source": [
        "**Celda 6: Función para Obtener Lotes de Datos**"
      ],
      "metadata": {
        "id": "AL-hpSX5eKXQ"
      }
    },
    {
      "cell_type": "code",
      "source": [
        "import torch.nn.functional as F\n",
        "\n",
        "def get_batch(split):\n",
        "    \"\"\"\n",
        "    Genera un lote de datos para entrenamiento o validación.\n",
        "\n",
        "    Args:\n",
        "        split (str): 'train' o 'val' para indicar el conjunto de datos.\n",
        "\n",
        "    Returns:\n",
        "        Tuple[torch.Tensor, torch.Tensor]: Tensores de entrada (x) y objetivos (y) de forma (batch_size, block_size).\n",
        "    \"\"\"\n",
        "    data_split = train_data if split == 'train' else val_data\n",
        "    batch_x = []\n",
        "    batch_y = []\n",
        "\n",
        "    for _ in range(batch_size):\n",
        "        # Seleccionar una oración aleatoria\n",
        "        sentence_idx = torch.randint(len(data_split), (1,)).item()\n",
        "        sentence = data_split[sentence_idx]\n",
        "\n",
        "        # Obtener la secuencia de entrada y la secuencia objetivo\n",
        "        x = sentence[:block_size]\n",
        "        y = sentence[1:block_size + 1]  # Esto dará 7 tokens\n",
        "\n",
        "        # Verificar la longitud de y y rellenar si es necesario\n",
        "        if len(y) < block_size:\n",
        "            pad_length = block_size - len(y)\n",
        "            pad_tensor = torch.tensor([animal_vocab.get_index(PAD_TOKEN)] * pad_length, dtype=torch.long)\n",
        "            y = torch.cat([y, pad_tensor])\n",
        "\n",
        "        batch_x.append(x)\n",
        "        batch_y.append(y)\n",
        "\n",
        "    # Convertir listas a tensores y mover al dispositivo\n",
        "    x = torch.stack(batch_x)  # Forma: (batch_size, block_size)\n",
        "    y = torch.stack(batch_y)  # Forma: (batch_size, block_size)\n",
        "    x, y = x.to(device), y.to(device)\n",
        "\n",
        "    # Verificación de las formas\n",
        "    assert x.shape == (batch_size, block_size), f\"x shape: {x.shape}, expected: ({batch_size}, {block_size})\"\n",
        "    assert y.shape == (batch_size, block_size), f\"y shape: {y.shape}, expected: ({batch_size}, {block_size})\"\n",
        "\n",
        "    return x, y\n"
      ],
      "metadata": {
        "id": "c4KgCD7oeSMY"
      },
      "execution_count": null,
      "outputs": []
    },
    {
      "cell_type": "markdown",
      "source": [
        "Explicación:\n",
        "\n",
        "- **get_batch**: Selecciona aleatoriamente secuencias de longitud block_size para entrenamiento o validación, desplazando los objetivos una posición hacia adelante."
      ],
      "metadata": {
        "id": "JeAxO5lCb462"
      }
    },
    {
      "cell_type": "markdown",
      "source": [
        "**Celda 7: Función para Estimar la Pérdida**"
      ],
      "metadata": {
        "id": "mOjXu8FKeXg4"
      }
    },
    {
      "cell_type": "code",
      "source": [
        "@torch.no_grad()\n",
        "def estimate_loss():\n",
        "    \"\"\"\n",
        "    Calcula la pérdida promedio en los conjuntos de entrenamiento y validación.\n",
        "\n",
        "    Returns:\n",
        "        dict: Diccionario con las pérdidas promedio para 'train' y 'val'.\n",
        "    \"\"\"\n",
        "    out = {}\n",
        "    model.eval()\n",
        "    for split in ['train', 'val']:\n",
        "        losses = torch.zeros(eval_iters)\n",
        "        for k in range(eval_iters):\n",
        "            X, Y = get_batch(split)\n",
        "            logits, loss = model(X, Y)\n",
        "            losses[k] = loss.item()\n",
        "        out[split] = losses.mean()\n",
        "    model.train()\n",
        "    return out\n"
      ],
      "metadata": {
        "id": "NNhVbeDIeZbU"
      },
      "execution_count": null,
      "outputs": []
    },
    {
      "cell_type": "markdown",
      "source": [
        "Explicación:\n",
        "\n",
        "- **estimate_loss**: Evalúa la pérdida promedio en los conjuntos de entrenamiento y validación sin actualizar los pesos del modelo."
      ],
      "metadata": {
        "id": "Pb_1gjNfb6ud"
      }
    },
    {
      "cell_type": "markdown",
      "source": [
        "**Celda 8: Inicialización del Modelo y Parámetros**"
      ],
      "metadata": {
        "id": "rJ7MpLFfeh4O"
      }
    },
    {
      "cell_type": "markdown",
      "source": [
        "Explicación:\n",
        "\n",
        "- **Parámetros del modelo**: Define el tamaño de batch, longitud del bloque, número de iteraciones, tasa de aprendizaje, dimensiones de embeddings, número de cabezas de atención, número de capas Transformer y tasa de dropout.\n",
        "\n",
        "- **Inicialización del modelo**: Crea una instancia de GPTSimplificado y la mueve al dispositivo seleccionado (GPU si está disponible).\n",
        "\n",
        "- **Optimizador**: Utiliza AdamW para actualizar los parámetros del modelo durante el entrenamiento."
      ],
      "metadata": {
        "id": "nU1N6ymeb8ms"
      }
    },
    {
      "cell_type": "markdown",
      "source": [
        "**Celda 9: Ciclo de Entrenamiento del Modelo**"
      ],
      "metadata": {
        "id": "1KmhTPbPe0Qq"
      }
    },
    {
      "cell_type": "code",
      "source": [
        "model = GPTSimplificado(vocab_size)\n",
        "model = model.to(device)\n",
        "optimizer = torch.optim.AdamW(model.parameters(), lr=learning_rate)\n",
        "\n",
        "for iter in range(max_iters):\n",
        "    # Evaluar periódicamente la pérdida en entrenamiento y validación\n",
        "    if iter % eval_interval == 0:\n",
        "        losses = estimate_loss()\n",
        "        print(f\"Iteración {iter}: Pérdida Entrenamiento {losses['train']:.4f}, Pérdida Validación {losses['val']:.4f}\")\n",
        "\n",
        "    # Obtener un lote de datos de entrenamiento\n",
        "    xb, yb = get_batch('train')\n",
        "\n",
        "    # Evaluar la pérdida\n",
        "    logits, loss = model(xb, yb)\n",
        "\n",
        "    # Retropropagación\n",
        "    optimizer.zero_grad(set_to_none=True)\n",
        "    loss.backward()\n",
        "    optimizer.step()\n"
      ],
      "metadata": {
        "id": "Ub9guflpewFu",
        "colab": {
          "base_uri": "https://localhost:8080/"
        },
        "outputId": "88514b14-2f32-42e1-f40b-fecd6b798f1e"
      },
      "execution_count": null,
      "outputs": [
        {
          "output_type": "stream",
          "name": "stdout",
          "text": [
            "Iteración 0: Pérdida Entrenamiento 3.1308, Pérdida Validación 3.1649\n",
            "Iteración 100: Pérdida Entrenamiento 0.6243, Pérdida Validación 0.9894\n",
            "Iteración 200: Pérdida Entrenamiento 0.6139, Pérdida Validación 1.0627\n",
            "Iteración 300: Pérdida Entrenamiento 0.6085, Pérdida Validación 1.0810\n"
          ]
        }
      ]
    },
    {
      "cell_type": "markdown",
      "source": [
        "\n",
        "\n",
        "Explicación:\n",
        "\n",
        "- **Entrenamiento**: Para cada iteración, se evalúa periódicamente la pérdida en los conjuntos de entrenamiento y validación. Luego, se obtiene un lote de datos, se calcula la pérdida, se realiza la retropropagación y se actualizan los pesos del modelo."
      ],
      "metadata": {
        "id": "aPYpYex6e38P"
      }
    },
    {
      "cell_type": "markdown",
      "source": [
        "**Celda 10: Definición de la Función generate_text**"
      ],
      "metadata": {
        "id": "xau46TO5xnKN"
      }
    },
    {
      "cell_type": "code",
      "source": [
        "def generate_text(model, start_sentence, max_new_tokens):\n",
        "    '''\n",
        "    Genera texto a partir de una oración inicial usando el modelo GPTSimplificado.\n",
        "\n",
        "    Args:\n",
        "        model (GPTSimplificado): El modelo entrenado.\n",
        "        start_sentence (str): La oración inicial para la generación.\n",
        "        max_new_tokens (int): Número de tokens a generar.\n",
        "\n",
        "    Returns:\n",
        "        str: El texto generado.\n",
        "    '''\n",
        "    # Tokenizar el contexto inicial\n",
        "    context_tokens = [animal_vocab.get_index(token) for token in start_sentence.split()]\n",
        "\n",
        "    # Convertir a tensor y añadir una dimensión de batch\n",
        "    context_tensor = torch.tensor([context_tokens], dtype=torch.long).to(device)\n",
        "\n",
        "    # Generar nuevos tokens\n",
        "    generated_indices = model.generate(context_tensor, max_new_tokens=max_new_tokens)\n",
        "\n",
        "    # Convertir los índices generados de vuelta a tokens\n",
        "    generated_tokens = [animal_vocab.get_token(idx) for idx in generated_indices[0].tolist()]\n",
        "\n",
        "    # Unir los tokens en una sola cadena de texto\n",
        "    generated_text = ' '.join(generated_tokens)\n",
        "\n",
        "    return generated_text\n"
      ],
      "metadata": {
        "id": "GUI0Q4qcoRz4"
      },
      "execution_count": null,
      "outputs": []
    },
    {
      "cell_type": "markdown",
      "source": [
        "**Celda 11: Generación de Texto con el Modelo Entrenado**"
      ],
      "metadata": {
        "id": "vXHThRrEfAfO"
      }
    },
    {
      "cell_type": "code",
      "source": [
        "# CELDA 11: Prueba de generación\n",
        "start_sentence = 'el perro'\n",
        "print(f'\\nEntrada: \"{start_sentence}\"')\n",
        "generated = generate_text(model, start_sentence, max_new_tokens=4)\n",
        "print(f'Texto generado: \"{generated}\"')\n",
        "\n",
        "# Verificar el vocabulario\n",
        "print('\\nContenido del vocabulario:')\n",
        "for i, token in enumerate(animal_vocab.index2token):\n",
        "    print(f'{i}: {token}')"
      ],
      "metadata": {
        "colab": {
          "base_uri": "https://localhost:8080/"
        },
        "id": "fblIYnBldcui",
        "outputId": "21749659-9b9a-42b7-b7f2-6a8f45500bff"
      },
      "execution_count": null,
      "outputs": [
        {
          "output_type": "stream",
          "name": "stdout",
          "text": [
            "\n",
            "Entrada: \"el perro\"\n",
            "Texto generado: \"<unk> <unk> slept in the rug\"\n",
            "\n",
            "Contenido del vocabulario:\n",
            "0: <pad>\n",
            "1: <unk>\n",
            "2: bed\n",
            "3: cat\n",
            "4: dog\n",
            "5: eagle\n",
            "6: elephant\n",
            "7: goat\n",
            "8: hippo\n",
            "9: in\n",
            "10: jumped\n",
            "11: mat\n",
            "12: rhino\n",
            "13: rug\n",
            "14: sat\n",
            "15: slept\n",
            "16: sofa\n",
            "17: stood\n",
            "18: the\n",
            "19: zebra\n"
          ]
        }
      ]
    },
    {
      "cell_type": "markdown",
      "source": [
        "Explicación:\n",
        "\n",
        "- **generate_text**: Toma una cadena de texto de inicio, la codifica, la pasa al modelo para generar nuevos tokens, y finalmente decodifica los índices generados de vuelta a texto legible.\n",
        "\n",
        "- **Ejemplo de uso**: Inicia la generación de texto con la frase \"el gato\" y produce 20 nuevos tokens."
      ],
      "metadata": {
        "id": "uvgLpg7tcBM7"
      }
    },
    {
      "cell_type": "markdown",
      "source": [
        "## Sección 2.3: Observaciones y Conclusiones\n",
        "\n",
        "- **Coherencia del Texto**: El modelo Transformer, gracias a su mecanismo de atención, es capaz de generar secuencias de texto más coherentes y contextualmente relevantes en comparación con modelos más simples. No obstante, debido a nuestro limitado vocabulario y muy simple arquitectura no se notan diferencias sustanciales.\n",
        "Si quieres ver una implementación mas real de GPT2 (pero también simplificada) te recomiendo ver este repositorio: https://github.com/minimaxir/gpt-2-simple\n",
        "- **Paralelización**: A diferencia de las RNNs, los Transformers permiten el procesamiento paralelo de datos, lo que resulta en tiempos de entrenamiento más eficientes.\n",
        "\n",
        "- **Escalabilidad**: Los Transformers son altamente escalables y se han demostrado efectivos en una variedad de tareas de NLP, desde generación de texto hasta traducción y comprensión."
      ],
      "metadata": {
        "id": "jHPqfplXcGtY"
      }
    },
    {
      "cell_type": "markdown",
      "source": [
        "¡Felicidades! Has completado el Ejercicio 2!\n",
        "\n",
        "Si quieres conocer más en detalle como funcionan los LLM te recomiendo estos dos videos de Andrej Karphaty:\n",
        "\n",
        "* https://www.youtube.com/watch?v=kCc8FmEb1nY&ab_channel=AndrejKarpathy\n",
        "* https://www.youtube.com/watch?v=l8pRSuU81PU&ab_channel=AndrejKarpathy\n",
        "\n",
        "o esta guía práctica de LLM-from-Scratch de Sebastian Raschka\n",
        "\n",
        "* https://github.com/rasbt/LLMs-from-scratch/tree/main\n",
        "\n"
      ],
      "metadata": {
        "id": "dhemWbzpcJIO"
      }
    }
  ],
  "metadata": {
    "kernelspec": {
      "display_name": "Python 3 (ipykernel)",
      "language": "python",
      "name": "python3"
    },
    "language_info": {
      "codemirror_mode": {
        "name": "ipython",
        "version": 3
      },
      "file_extension": ".py",
      "mimetype": "text/x-python",
      "name": "python",
      "nbconvert_exporter": "python",
      "pygments_lexer": "ipython3",
      "version": "3.9.15"
    },
    "colab": {
      "provenance": []
    }
  },
  "nbformat": 4,
  "nbformat_minor": 0
}